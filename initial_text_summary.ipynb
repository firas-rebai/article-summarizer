{
  "nbformat": 4,
  "nbformat_minor": 0,
  "metadata": {
    "colab": {
      "provenance": []
    },
    "kernelspec": {
      "name": "python3",
      "display_name": "Python 3"
    },
    "language_info": {
      "name": "python"
    }
  },
  "cells": [
    {
      "cell_type": "code",
      "execution_count": null,
      "metadata": {
        "id": "Zq7W58k2xrLL"
      },
      "outputs": [],
      "source": []
    },
    {
      "cell_type": "code",
      "source": [
        "from google.colab import drive\n",
        "drive.mount('/content/drive')"
      ],
      "metadata": {
        "colab": {
          "base_uri": "https://localhost:8080/"
        },
        "id": "_JvqLH6SyvIx",
        "outputId": "28431d9a-615b-4c25-fa16-d46a0a6d35da"
      },
      "execution_count": null,
      "outputs": [
        {
          "output_type": "stream",
          "name": "stdout",
          "text": [
            "Drive already mounted at /content/drive; to attempt to forcibly remount, call drive.mount(\"/content/drive\", force_remount=True).\n"
          ]
        }
      ]
    },
    {
      "cell_type": "code",
      "source": [
        "import numpy as np\n",
        "import pandas as pd\n",
        "import re\n",
        "from bs4 import BeautifulSoup\n",
        "from keras.preprocessing.text import Tokenizer\n",
        "from nltk.corpus import stopwords\n",
        "import warnings\n",
        "import nltk\n",
        "pd.set_option(\"display.max_colwidth\", 200)\n",
        "warnings.filterwarnings(\"ignore\")"
      ],
      "metadata": {
        "id": "2ND0Tlr1zC9H"
      },
      "execution_count": null,
      "outputs": []
    },
    {
      "cell_type": "code",
      "source": [
        "nltk.download(\"stopwords\")"
      ],
      "metadata": {
        "colab": {
          "base_uri": "https://localhost:8080/"
        },
        "id": "T8HlRsNXb84G",
        "outputId": "4d954b76-4023-42f3-ef8c-7b7d98bfe7ad"
      },
      "execution_count": null,
      "outputs": [
        {
          "output_type": "stream",
          "name": "stderr",
          "text": [
            "[nltk_data] Downloading package stopwords to /root/nltk_data...\n",
            "[nltk_data]   Unzipping corpora/stopwords.zip.\n"
          ]
        },
        {
          "output_type": "execute_result",
          "data": {
            "text/plain": [
              "True"
            ]
          },
          "metadata": {},
          "execution_count": 3
        }
      ]
    },
    {
      "cell_type": "code",
      "source": [
        "nltk.download(\"punkt\")"
      ],
      "metadata": {
        "colab": {
          "base_uri": "https://localhost:8080/"
        },
        "id": "LhCpKv5g7bti",
        "outputId": "10c39a9e-6767-4899-f61c-90c174f17b8f"
      },
      "execution_count": null,
      "outputs": [
        {
          "output_type": "stream",
          "name": "stderr",
          "text": [
            "[nltk_data] Downloading package punkt to /root/nltk_data...\n",
            "[nltk_data]   Unzipping tokenizers/punkt.zip.\n"
          ]
        },
        {
          "output_type": "execute_result",
          "data": {
            "text/plain": [
              "True"
            ]
          },
          "metadata": {},
          "execution_count": 4
        }
      ]
    },
    {
      "cell_type": "markdown",
      "source": [
        "![textrank.png](data:image/png;base64,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)"
      ],
      "metadata": {
        "id": "dS28tFft3m9K"
      }
    },
    {
      "cell_type": "code",
      "source": [
        "data = pd.read_csv(\"/content/drive/MyDrive/Data/scisumm.csv\")\n",
        "data.head()"
      ],
      "metadata": {
        "colab": {
          "base_uri": "https://localhost:8080/",
          "height": 293
        },
        "id": "fvx_OzXT6X_1",
        "outputId": "299cc7b9-3f66-4e56-8549-6a200fecf5da"
      },
      "execution_count": null,
      "outputs": [
        {
          "output_type": "execute_result",
          "data": {
            "text/plain": [
              "                                                                                                                                                                                                      text  \\\n",
              "0  TnT - A Statistical Part-Of-Speech Tagger Trigrams'n'Tags (TnT) is an efficient statistical part-of-speech tagger. Contrary to claims found elsewhere in the literature, we argue that a tagger base...   \n",
              "1  Mildly Non-Projective Dependency Structures Syntactic parsing requires a fine balance between expressivity and complexity, so that naturally occurring structures can be accurately parsed without c...   \n",
              "2  Using Corpus Statistics And WordNet Relations For Sense Identification Corpus-based approaches to word sense identification have flexibility and generality but suffer from a knowledge acquisition ...   \n",
              "3  Automatic Labeling Of Semantic Roles present a system for identifying the semantic relationships, or filled by constituents of a sentence within a semantic frame. Given an input sentence and a tar...   \n",
              "4  Generative Models For Statistical Parsing With Combinatory Categorial Grammar This paper compares a number of generative probability models for a widecoverage Combinatory Categorial Gram mar (CCG)...   \n",
              "\n",
              "                                                                                                                                                                                                   summary  \n",
              "0  TnT - A Statistical Part-Of-Speech Tagger\\nTrigrams'n'Tags (TnT) is an efficient statistical part-of-speech tagger.\\nContrary to claims found elsewhere in the literature, we argue that a tagger ba...  \n",
              "1  Mildly Non-Projective Dependency Structures\\nSyntactic parsing requires a fine balance between expressivity and complexity, so that naturally occurring structures can be accurately parsed without ...  \n",
              "2  Using Corpus Statistics And WordNet Relations For Sense Identification\\nCorpus-based approaches to word sense identification have flexibility and generality but suffer from a knowledge acquisition...  \n",
              "3  Automatic Labeling Of Semantic Roles\\nWe present a system for identifying the semantic relationships, or semantic roles, filled by constituents of a sentence within a semantic frame.\\nGiven an inp...  \n",
              "4  Generative Models For Statistical Parsing With Combinatory Categorial Grammar\\nThis paper compares a number of generative probability models for a wide-coverage Combinatory Categorial Grammar (CCG...  "
            ],
            "text/html": [
              "\n",
              "  <div id=\"df-b38aa976-8eb4-40e6-8ee5-44529186673d\" class=\"colab-df-container\">\n",
              "    <div>\n",
              "<style scoped>\n",
              "    .dataframe tbody tr th:only-of-type {\n",
              "        vertical-align: middle;\n",
              "    }\n",
              "\n",
              "    .dataframe tbody tr th {\n",
              "        vertical-align: top;\n",
              "    }\n",
              "\n",
              "    .dataframe thead th {\n",
              "        text-align: right;\n",
              "    }\n",
              "</style>\n",
              "<table border=\"1\" class=\"dataframe\">\n",
              "  <thead>\n",
              "    <tr style=\"text-align: right;\">\n",
              "      <th></th>\n",
              "      <th>text</th>\n",
              "      <th>summary</th>\n",
              "    </tr>\n",
              "  </thead>\n",
              "  <tbody>\n",
              "    <tr>\n",
              "      <th>0</th>\n",
              "      <td>TnT - A Statistical Part-Of-Speech Tagger Trigrams'n'Tags (TnT) is an efficient statistical part-of-speech tagger. Contrary to claims found elsewhere in the literature, we argue that a tagger base...</td>\n",
              "      <td>TnT - A Statistical Part-Of-Speech Tagger\\nTrigrams'n'Tags (TnT) is an efficient statistical part-of-speech tagger.\\nContrary to claims found elsewhere in the literature, we argue that a tagger ba...</td>\n",
              "    </tr>\n",
              "    <tr>\n",
              "      <th>1</th>\n",
              "      <td>Mildly Non-Projective Dependency Structures Syntactic parsing requires a fine balance between expressivity and complexity, so that naturally occurring structures can be accurately parsed without c...</td>\n",
              "      <td>Mildly Non-Projective Dependency Structures\\nSyntactic parsing requires a fine balance between expressivity and complexity, so that naturally occurring structures can be accurately parsed without ...</td>\n",
              "    </tr>\n",
              "    <tr>\n",
              "      <th>2</th>\n",
              "      <td>Using Corpus Statistics And WordNet Relations For Sense Identification Corpus-based approaches to word sense identification have flexibility and generality but suffer from a knowledge acquisition ...</td>\n",
              "      <td>Using Corpus Statistics And WordNet Relations For Sense Identification\\nCorpus-based approaches to word sense identification have flexibility and generality but suffer from a knowledge acquisition...</td>\n",
              "    </tr>\n",
              "    <tr>\n",
              "      <th>3</th>\n",
              "      <td>Automatic Labeling Of Semantic Roles present a system for identifying the semantic relationships, or filled by constituents of a sentence within a semantic frame. Given an input sentence and a tar...</td>\n",
              "      <td>Automatic Labeling Of Semantic Roles\\nWe present a system for identifying the semantic relationships, or semantic roles, filled by constituents of a sentence within a semantic frame.\\nGiven an inp...</td>\n",
              "    </tr>\n",
              "    <tr>\n",
              "      <th>4</th>\n",
              "      <td>Generative Models For Statistical Parsing With Combinatory Categorial Grammar This paper compares a number of generative probability models for a widecoverage Combinatory Categorial Gram mar (CCG)...</td>\n",
              "      <td>Generative Models For Statistical Parsing With Combinatory Categorial Grammar\\nThis paper compares a number of generative probability models for a wide-coverage Combinatory Categorial Grammar (CCG...</td>\n",
              "    </tr>\n",
              "  </tbody>\n",
              "</table>\n",
              "</div>\n",
              "    <div class=\"colab-df-buttons\">\n",
              "\n",
              "  <div class=\"colab-df-container\">\n",
              "    <button class=\"colab-df-convert\" onclick=\"convertToInteractive('df-b38aa976-8eb4-40e6-8ee5-44529186673d')\"\n",
              "            title=\"Convert this dataframe to an interactive table.\"\n",
              "            style=\"display:none;\">\n",
              "\n",
              "  <svg xmlns=\"http://www.w3.org/2000/svg\" height=\"24px\" viewBox=\"0 -960 960 960\">\n",
              "    <path d=\"M120-120v-720h720v720H120Zm60-500h600v-160H180v160Zm220 220h160v-160H400v160Zm0 220h160v-160H400v160ZM180-400h160v-160H180v160Zm440 0h160v-160H620v160ZM180-180h160v-160H180v160Zm440 0h160v-160H620v160Z\"/>\n",
              "  </svg>\n",
              "    </button>\n",
              "\n",
              "  <style>\n",
              "    .colab-df-container {\n",
              "      display:flex;\n",
              "      gap: 12px;\n",
              "    }\n",
              "\n",
              "    .colab-df-convert {\n",
              "      background-color: #E8F0FE;\n",
              "      border: none;\n",
              "      border-radius: 50%;\n",
              "      cursor: pointer;\n",
              "      display: none;\n",
              "      fill: #1967D2;\n",
              "      height: 32px;\n",
              "      padding: 0 0 0 0;\n",
              "      width: 32px;\n",
              "    }\n",
              "\n",
              "    .colab-df-convert:hover {\n",
              "      background-color: #E2EBFA;\n",
              "      box-shadow: 0px 1px 2px rgba(60, 64, 67, 0.3), 0px 1px 3px 1px rgba(60, 64, 67, 0.15);\n",
              "      fill: #174EA6;\n",
              "    }\n",
              "\n",
              "    .colab-df-buttons div {\n",
              "      margin-bottom: 4px;\n",
              "    }\n",
              "\n",
              "    [theme=dark] .colab-df-convert {\n",
              "      background-color: #3B4455;\n",
              "      fill: #D2E3FC;\n",
              "    }\n",
              "\n",
              "    [theme=dark] .colab-df-convert:hover {\n",
              "      background-color: #434B5C;\n",
              "      box-shadow: 0px 1px 3px 1px rgba(0, 0, 0, 0.15);\n",
              "      filter: drop-shadow(0px 1px 2px rgba(0, 0, 0, 0.3));\n",
              "      fill: #FFFFFF;\n",
              "    }\n",
              "  </style>\n",
              "\n",
              "    <script>\n",
              "      const buttonEl =\n",
              "        document.querySelector('#df-b38aa976-8eb4-40e6-8ee5-44529186673d button.colab-df-convert');\n",
              "      buttonEl.style.display =\n",
              "        google.colab.kernel.accessAllowed ? 'block' : 'none';\n",
              "\n",
              "      async function convertToInteractive(key) {\n",
              "        const element = document.querySelector('#df-b38aa976-8eb4-40e6-8ee5-44529186673d');\n",
              "        const dataTable =\n",
              "          await google.colab.kernel.invokeFunction('convertToInteractive',\n",
              "                                                    [key], {});\n",
              "        if (!dataTable) return;\n",
              "\n",
              "        const docLinkHtml = 'Like what you see? Visit the ' +\n",
              "          '<a target=\"_blank\" href=https://colab.research.google.com/notebooks/data_table.ipynb>data table notebook</a>'\n",
              "          + ' to learn more about interactive tables.';\n",
              "        element.innerHTML = '';\n",
              "        dataTable['output_type'] = 'display_data';\n",
              "        await google.colab.output.renderOutput(dataTable, element);\n",
              "        const docLink = document.createElement('div');\n",
              "        docLink.innerHTML = docLinkHtml;\n",
              "        element.appendChild(docLink);\n",
              "      }\n",
              "    </script>\n",
              "  </div>\n",
              "\n",
              "\n",
              "<div id=\"df-0d1ef94e-b950-4082-9e20-56a82c3b5e26\">\n",
              "  <button class=\"colab-df-quickchart\" onclick=\"quickchart('df-0d1ef94e-b950-4082-9e20-56a82c3b5e26')\"\n",
              "            title=\"Suggest charts\"\n",
              "            style=\"display:none;\">\n",
              "\n",
              "<svg xmlns=\"http://www.w3.org/2000/svg\" height=\"24px\"viewBox=\"0 0 24 24\"\n",
              "     width=\"24px\">\n",
              "    <g>\n",
              "        <path d=\"M19 3H5c-1.1 0-2 .9-2 2v14c0 1.1.9 2 2 2h14c1.1 0 2-.9 2-2V5c0-1.1-.9-2-2-2zM9 17H7v-7h2v7zm4 0h-2V7h2v10zm4 0h-2v-4h2v4z\"/>\n",
              "    </g>\n",
              "</svg>\n",
              "  </button>\n",
              "\n",
              "<style>\n",
              "  .colab-df-quickchart {\n",
              "      --bg-color: #E8F0FE;\n",
              "      --fill-color: #1967D2;\n",
              "      --hover-bg-color: #E2EBFA;\n",
              "      --hover-fill-color: #174EA6;\n",
              "      --disabled-fill-color: #AAA;\n",
              "      --disabled-bg-color: #DDD;\n",
              "  }\n",
              "\n",
              "  [theme=dark] .colab-df-quickchart {\n",
              "      --bg-color: #3B4455;\n",
              "      --fill-color: #D2E3FC;\n",
              "      --hover-bg-color: #434B5C;\n",
              "      --hover-fill-color: #FFFFFF;\n",
              "      --disabled-bg-color: #3B4455;\n",
              "      --disabled-fill-color: #666;\n",
              "  }\n",
              "\n",
              "  .colab-df-quickchart {\n",
              "    background-color: var(--bg-color);\n",
              "    border: none;\n",
              "    border-radius: 50%;\n",
              "    cursor: pointer;\n",
              "    display: none;\n",
              "    fill: var(--fill-color);\n",
              "    height: 32px;\n",
              "    padding: 0;\n",
              "    width: 32px;\n",
              "  }\n",
              "\n",
              "  .colab-df-quickchart:hover {\n",
              "    background-color: var(--hover-bg-color);\n",
              "    box-shadow: 0 1px 2px rgba(60, 64, 67, 0.3), 0 1px 3px 1px rgba(60, 64, 67, 0.15);\n",
              "    fill: var(--button-hover-fill-color);\n",
              "  }\n",
              "\n",
              "  .colab-df-quickchart-complete:disabled,\n",
              "  .colab-df-quickchart-complete:disabled:hover {\n",
              "    background-color: var(--disabled-bg-color);\n",
              "    fill: var(--disabled-fill-color);\n",
              "    box-shadow: none;\n",
              "  }\n",
              "\n",
              "  .colab-df-spinner {\n",
              "    border: 2px solid var(--fill-color);\n",
              "    border-color: transparent;\n",
              "    border-bottom-color: var(--fill-color);\n",
              "    animation:\n",
              "      spin 1s steps(1) infinite;\n",
              "  }\n",
              "\n",
              "  @keyframes spin {\n",
              "    0% {\n",
              "      border-color: transparent;\n",
              "      border-bottom-color: var(--fill-color);\n",
              "      border-left-color: var(--fill-color);\n",
              "    }\n",
              "    20% {\n",
              "      border-color: transparent;\n",
              "      border-left-color: var(--fill-color);\n",
              "      border-top-color: var(--fill-color);\n",
              "    }\n",
              "    30% {\n",
              "      border-color: transparent;\n",
              "      border-left-color: var(--fill-color);\n",
              "      border-top-color: var(--fill-color);\n",
              "      border-right-color: var(--fill-color);\n",
              "    }\n",
              "    40% {\n",
              "      border-color: transparent;\n",
              "      border-right-color: var(--fill-color);\n",
              "      border-top-color: var(--fill-color);\n",
              "    }\n",
              "    60% {\n",
              "      border-color: transparent;\n",
              "      border-right-color: var(--fill-color);\n",
              "    }\n",
              "    80% {\n",
              "      border-color: transparent;\n",
              "      border-right-color: var(--fill-color);\n",
              "      border-bottom-color: var(--fill-color);\n",
              "    }\n",
              "    90% {\n",
              "      border-color: transparent;\n",
              "      border-bottom-color: var(--fill-color);\n",
              "    }\n",
              "  }\n",
              "</style>\n",
              "\n",
              "  <script>\n",
              "    async function quickchart(key) {\n",
              "      const quickchartButtonEl =\n",
              "        document.querySelector('#' + key + ' button');\n",
              "      quickchartButtonEl.disabled = true;  // To prevent multiple clicks.\n",
              "      quickchartButtonEl.classList.add('colab-df-spinner');\n",
              "      try {\n",
              "        const charts = await google.colab.kernel.invokeFunction(\n",
              "            'suggestCharts', [key], {});\n",
              "      } catch (error) {\n",
              "        console.error('Error during call to suggestCharts:', error);\n",
              "      }\n",
              "      quickchartButtonEl.classList.remove('colab-df-spinner');\n",
              "      quickchartButtonEl.classList.add('colab-df-quickchart-complete');\n",
              "    }\n",
              "    (() => {\n",
              "      let quickchartButtonEl =\n",
              "        document.querySelector('#df-0d1ef94e-b950-4082-9e20-56a82c3b5e26 button');\n",
              "      quickchartButtonEl.style.display =\n",
              "        google.colab.kernel.accessAllowed ? 'block' : 'none';\n",
              "    })();\n",
              "  </script>\n",
              "</div>\n",
              "\n",
              "    </div>\n",
              "  </div>\n"
            ]
          },
          "metadata": {},
          "execution_count": 5
        }
      ]
    },
    {
      "cell_type": "markdown",
      "source": [
        "## Preprocessing"
      ],
      "metadata": {
        "id": "n0g4TWpCU96r"
      }
    },
    {
      "cell_type": "markdown",
      "source": [
        "### First step we need to do is to clean the text and summary\n",
        "\n",
        "we will need to :   \n",
        "\n",
        "* Convert everything to lowercase\n",
        "* Remove HTML tags\n",
        "* Contraction mapping\n",
        "* Remove (‘s)\n",
        "* Remove the parenthesis ( )\n",
        "* Eliminate punctuations and special characters\n",
        "\n",
        "for that we need to define a funtion\n",
        "\n",
        "\n"
      ],
      "metadata": {
        "id": "_KcmXXttVe3H"
      }
    },
    {
      "cell_type": "code",
      "source": [
        "def text_cleaner(text):\n",
        "  newString = text.lower()\n",
        "  newString = BeautifulSoup(newString, \"lxml\").text\n",
        "  newString = newString.replace(')', '')\n",
        "  newString = newString.replace('(', '')\n",
        "  newString = newString.replace('\"','')\n",
        "  newString = newString.replace(',','')\n",
        "  newString = newString.replace(':','')\n",
        "  newString = newString.replace('\\'','')\n",
        "  newString = newString.replace(' - ',' ')\n",
        "  newString = newString.replace('\\n',' ')\n",
        "  return newString"
      ],
      "metadata": {
        "id": "DY-KU9atTtc1"
      },
      "execution_count": null,
      "outputs": []
    },
    {
      "cell_type": "code",
      "source": [
        "cleaned_text = [text_cleaner(text) for text in data[\"text\"]]\n",
        "cleaned_text[0]"
      ],
      "metadata": {
        "colab": {
          "base_uri": "https://localhost:8080/",
          "height": 105
        },
        "id": "CDbKKzp9qApF",
        "outputId": "25e6f066-6b37-4593-dea1-c440631f7b65"
      },
      "execution_count": null,
      "outputs": [
        {
          "output_type": "execute_result",
          "data": {
            "text/plain": [
              "'tnt a statistical part-of-speech tagger trigramsntags tnt is an efficient statistical part-of-speech tagger. contrary to claims found elsewhere in the literature we argue that a tagger based on markov models performs at least as well as other current approaches including the maximum entropy framework. a recent comparison has even shown that tnt performs significantly better for the tested corpora. we describe the basic model of tnt the techniques used for smoothing and for handling unknown words. furthermore we present evaluations on two corpora. a large number of current language processing systems use a part-of-speech tagger for pre-processing. the tagger assigns a unique or ambiguous part-ofspeech tag to each token in the input and passes its output to the next processing level usually a parser. furthermore there is a large interest in part-ofspeech tagging for corpus annotation projects who create valuable linguistic resources by a combination of automatic processing and human correction. for both applications a tagger with the highest possible accuracy is required. the debate about which paradigm solves the part-of-speech tagging problem best is not finished. recent comparisons of approaches that can be trained on corpora van halteren et al. 1998; volk and schneider 1998 have shown that in most cases statistical aproaches cutting et al. 1992; schmid 1995; ratnaparkhi 1996 yield better results than finite-state rule-based or memory-based taggers brill 1993; daelemans et al. 1996. they are only surpassed by combinations of different systems forming a voting tagger. among the statistical approaches the maximum entropy framework has a very strong position. nevertheless a recent independent comparison of 7 taggers zavrel and daelemans 1999 has shown that another approach even works better markov models combined with a good smoothing technique and with handling of unknown words. this tagger tnt not only yielded the highest accuracy it also was the fastest both in training and tagging. the tagger comparison was organized as a blackbox test set the same task to every tagger and compare the outcomes. this paper describes the models and techniques used by tnt together with the implementation. the reader will be surprised how simple the underlying model is. the result of the tagger comparison seems to support the maxime the simplest is the best. however in this paper we clarify a number of details that are omitted in major previous publications concerning tagging with markov models. as two examples rabiner 1989 and charniak et al. 1993 give good overviews of the techniques and equations used for markov models and part-ofspeech tagging but they are not very explicit in the details that are needed for their application. we argue that it is not only the choice of the general model that determines the result of the tagger but also the various small decisions on alternatives. the aim of this paper is to give a detailed account of the techniques used in tnt. additionally we present results of the tagger on the negra corpus brants et al. 1999 and the penn treebank marcus et al. 1993. the penn treebank results reported here for the markov model approach are at least equivalent to those reported for the maximum entropy approach in ratnaparkhi 1996. for a comparison to other taggers the reader is referred to zavrel and daelemans 1999. tnt uses second order markov models for part-ofspeech tagging. the states of the model represent tags outputs represent the words. transition probabilities depend on the states thus pairs of tags. output probabilities only depend on the most recent category. to be explicit we calculate for a given sequence of words w1 of length t. t1 tr are elements of the tagset the additional tags t_1 to and t7-±1 are beginning-of-sequence and end-of-sequence markers. using these additional tags even if they stem from rudimentary processing of punctuation marks slightly improves tagging results. this is different from formulas presented in other publications which just stop with a loose end at the last word. if sentence boundaries are not marked in the input tnt adds these tags if it encounters one of [.!? ;] as a token. transition and output probabilities are estimated from a tagged corpus. as a first step we use the maximum likelihood probabilities p which are derived from the relative frequencies for all t1 t2 t3 in the tagset and w3 in the lexicon. n is the total number of tokens in the training corpus. we define a maximum likelihood probability to be zero if the corresponding nominators and denominators are zero. as a second step contextual frequencies are smoothed and lexical frequences are completed by handling words that are not in the lexicon see below. trigram probabilities generated from a corpus usually cannot directly be used because of the sparsedata problem. this means that there are not enough instances for each trigram to reliably estimate the probability. furthermore setting a probability to zero because the corresponding trigram never occured in the corpus has an undesired effect. it causes the probability of a complete sequence to be set to zero if its use is necessary for a new text sequence thus makes it impossible to rank different sequences containing a zero probability. the smoothing paradigm that delivers the best results in tnt is linear interpolation of unigrams bigrams and trigrams. therefore we estimate a trigram probability as follows p are maximum likelihood estimates of the probabilities and a1 + a2 ± a3 = 1 so p again represent probability distributions. we use the context-independent variant of linear interpolation i.e. the values of the as do not depend on the particular trigram. contrary to intuition this yields better results than the context-dependent variant. due to sparse-data problems one cannot estimate a different set of as for each trigram. therefore it is common practice to group trigrams by frequency and estimate tied sets of as. however we are not aware of any publication that has investigated frequency groupings for linear interpolation in part-of-speech tagging. all groupings that we have tested yielded at most equivalent results to contextindependent linear interpolation. some groupings even yielded worse results. the tested groupings included a one set of as for each frequency value and b two classes low and high frequency on the two ends of the scale as well as several groupings in between and several settings for partitioning the classes. the values of a1 a2 and a3 are estimated by deleted interpolation. this technique successively removes each trigram from the training corpus and estimates best values for the as from all other ngrams in the corpus. given the frequency counts for uni- bi- and trigrams the weights can be very efficiently determined with a processing time linear in the number of different trigrams. the algorithm is given in figure 1. note that subtracting 1 means taking unseen data into account. without this subtraction the model would overfit the training data and would generally yield worse results. currently the method of handling unknown words that seems to work best for inflected languages is a suffix analysis as proposed in samuelsson 1993. tag probabilities are set according to the words ending. the suffix is a strong predictor for word classes e.g. words in the wall street journal part of the penn treebank ending in able are adjectives .11 in 98% of the cases e.g. fashionable variable  the rest of 2% are nouns e.g. cable variable. the probability distribution for a particular suffix is generated from all words in the training set that share the same suffix of some predefined maximum length. the term suffix as used here means final sequence of characters of a word which is not necessarily a linguistically meaningful suffix. probabilities are smoothed by successive abstraction. this calculates the probability of a tag t given the last m letters i of an n letter word pt1/7„+1..ln. the sequence of increasingly more general contexts omits more and more characters of the suffix such that ptlin-m+2 • • • ptlin_m+3 i  pt are used for smoothing. the recursion formula is set a = a2 = a3 = 0 foreach trigram t1t2t3 with f tit2t3 >0 depending on the maximum of the following three values for i = m ... 0 using the maximum likelihood estimates p from frequencies in the lexicon weights oi and the initialization for the markov model we need the inverse conditional probabilities p12_1+1 ... /tilt which are obtained by bayesian inversion. a theoretical motivated argumentation uses the standard deviation of the maximum likelihood probabilities for the weights 0 samuelsson 1993. this leaves room for interpretation. we use the longest suffix that we can find in the training set i.e. for which the frequency is greater than or equal to 1 but at most 10 characters. this is an empirically determined choice. 2 we use a context-independent approach for 0„ as we did for the contextual weights a. it turned out to be a good choice to set all 0 to the standard deviation of the unconditioned maximum likelihood probabilities of the tags in the training corpus i.e. we set for all i = 0 ... m — 1 using a tagset of s tags and the average 11 this usually yields values in the range 003 ... 0.10. 3 we use different estimates for uppercase and lowercase words i.e. we maintain two different suffix tries depending on the capitalization of the word. this information improves the tagging results. 4 another freedom concerns the choice of the words in the lexicon that should be used for suffix handling. should we use all words or are some of them better suited than others? accepting that unknown words are most probably infrequent one can argue that using suffixes of infrequent words in the lexicon is a better approximation for unknown words than using suffixes of frequent words. therefore we restrict the procedure of suffix handling to words with a frequency smaller than or equal to some threshold value. empirically 10 turned out to be a good choice for this threshold. additional information that turned out to be useful for the disambiguation process for several corpora and tagsets is capitalization information. tags are usually not informative about capitalization but probability distributions of tags around capitalized words are different from those not capitalized. the effect is larger for english which only capitalizes proper names and smaller for german which capitalizes all nouns. we use flags ci that are true if wi is a capitalized word and false otherwise. these flags are added to the contextual probability distributions. instead of and equations 3 to 5 are updated accordingly. this is equivalent to doubling the size of the tagset and using different tags depending on capitalization. the processing time of the viterbi algorithm rabiner 1989 can be reduced by introducing a beam search. each state that receives a 6 value smaller than the largest 6 divided by some threshold value 0 is excluded from further processing. while the viterbi algorithm is guaranteed to find the sequence of states with the highest probability this is no longer true when beam search is added. nevertheless for practical purposes and the right choice of 0 there is virtually no difference between the algorithm with and without a beam. empirically a value of 0 = 1000 turned out to approximately double the speed of the tagger without affecting the accuracy. the tagger currently tags between 30000 and 60000 tokens per second including file i/o on a pentium 500 running linux. the speed mainly depends on the percentage of unknown words and on the average ambiguity rate. we evaluate the taggers performance under several aspects. first of all we determine the tagging accuracy averaged over ten iterations. the overall accuracy as well as separate accuracies for known and unknown words are measured. second learning curves are presented that indicate the performance when using training corpora of different sizes starting with as few as 1000 tokens and ranging to the size of the entire corpus minus the test set. an important characteristic of statistical taggers is that they not only assign tags to words but also probabilities in order to rank different assignments. we distinguish reliable from unreliable assignments by the quotient of the best and second best assignmentsl . all assignments for which this quotient is larger than some threshold are regarded as reliable the others as unreliable. as we will see below accuracies for reliable assignments are much higher. the tests are performed on partitions of the corpora that use 90% as training set and 10% as test set so that the test data is guaranteed to be unseen during training. each result is obtained by repeating the experiment 10 times with different partitions and averaging the single outcomes. in all experiments contiguous test sets are used. the alternative is a round-robin procedure that puts every 10th sentence into the test set. we argue that contiguous test sets yield more realistic results because completely unseen articles are tagged. using the round-robin procedure parts of an article are already seen which significantly reduces the percentage of unknown words. therefore we expect even by definition this quotient is oo if there is only one possible tag for a given word. higher results when testing on every 10th sentence instead of a contiguous set of 10%. in the following accuracy denotes the number of correctly assigned tags divided by the number of tokens in the corpus processed. the tagger is allowed to assign exactly one tag to each token. we distinguish the overall accuracy taking into account all tokens in the test corpus and separate accuracies for known and unknown tokens. the latter are interesting since usually unknown tokens are much more difficult to process than known tokens for which a list of valid tags can be found in the lexicon. the german negra corpus consists of 20000 sentences 355000 tokens of newspaper texts frankfurter rundschau that are annotated with parts-ofspeech and predicate-argument structures skut et al. 1997. it was developed at the saarland university in saarbriicken2. part of it was tagged at the ims stuttgart. this evaluation only uses the partof-speech annotation and ignores structural annotations. tagging accuracies for the negra corpus are shown in table 2. figure 3 shows the learning curve of the tagger i.e. the accuracy depending on the amount of training data. training length is the number of tokens used for training. each training length was tested ten times training and test sets were randomly chosen and disjoint results were averaged. the training length is given on a logarithmic scale. it is remarkable that tagging accuracy for known words is very high even for very small training corpora. this means that we have a good chance of getting the right tag if a word is seen at least once during training. average percentages of unknown tokens are shown in the bottom line of each diagram. we exploit the fact that the tagger not only determines tags but also assigns probabilities. if there is an alternative that has a probability close to that of the best assignment this alternative can be viewed as almost equally well suited. the notion of close to is expressed by the distance of probabilities and this in turn is expressed by the quotient of probabilities. so the distance of the probabilities of a best tag tbest and an alternative tag tau is expressed by ptbest/ptalt7 which is some value greater or equal to 1 since the best tag assignment has the highest probability. figure 4 shows the accuracy when separating assignments with quotients larger and smaller than the threshold hence reliable and unreliable assignments. as expected we find that accuracies for percentage known unknown • overall unknowns acc. acc. acc. a table 5 part-of-speech tagging accuracy for the penn treebank. the table shows the percentage of unknown tokens separate accuracies and standard deviations for known and unknown tokens as well as the overall accuracy. percentage known unknown overall unknowns acc. acc. acc. reliable assignments are much higher than for unreliable assignments. this distinction is e.g. useful for annotation projects during the cleaning process or during pre-processing so the tagger can emit multiple tags if the best tag is classified as unreliable. we use the wall street journal as contained in the penn treebank for our experiments. the annotation consists of four parts 1 a context-free structure augmented with traces to mark movement and discontinuous constituents 2 phrasal categories that are annotated as node labels 3 a small set of grammatical functions that are annotated as extensions to the node labels and 4 part-of-speech tags marcus et al. 1993. this evaluation only uses the part-ofspeech annotation. the wall street journal part of the penn treebank consists of approx. 50000 sentences 1.2 million tokens. tagging accuracies for the penn treebank are shown in table 5. figure 6 shows the learning curve of the tagger i.e. the accuracy depending on the amount of training data. training length is the number of tokens used for training. each training length was tested ten times. training and test sets were disjoint results are averaged. the training length is given on a logarithmic scale. as for the negra corpus tagging accuracy is very high for known tokens even with small amounts of training data. we exploit the fact that the tagger not only determines tags but also assigns probabilities. figure 7 shows the accuracy when separating assignments with quotients larger and smaller than the threshold hence reliable and unreliable assignments. again we find that accuracies for reliable assignments are much higher than for unreliable assignments. average part-of-speech tagging accuracy is between 96% and 97% depending on language and tagset which is at least on a par with state-of-the-art results found in the literature possibly better. for the penn treebank ratnaparkhi 1996 reports an accuracy of 96.6% using the maximum entropy approach our much simpler and therefore faster hmm approach delivers 96.7%. this comparison needs to be re-examined since we use a ten-fold crossvalidation and averaging of results while ratnaparkhi only makes one test run. the accuracy for known tokens is significantly higher than for unknown tokens. for the german newspaper data results are 8.7% better when the word was seen before and therefore is in the lexicon than when it was not seen before 97.7% vs. 89.0%. accuracy for known tokens is high even with very small amounts of training data. as few as 1000 tokens are sufficient to achieve 95%-96% accuracy for them. it is important for the tagger to have seen a word at least once during training. stochastic taggers assign probabilities to tags. we exploit the probabilities to determine reliability of assignments. for a subset that is determined during processing by the tagger we achieve accuracy rates of over 99%. the accuracy of the complement set is much lower. this information can e.g. be exploited in an annotation project to give an additional treatment to the unreliable assignments or to pass selected ambiguities to a subsequent processing step. we have shown that a tagger based on markov models yields state-of-the-art results despite contrary claims found in the literature. for example the markov model tagger used in the comparison of van halteren et al. 1998 yielded worse results than all other taggers. in our opinion a reason for the wrong claim is that the basic algorithms leave several decisions to the implementor. the rather large amount of freedom was not handled in detail in previous publications handling of start- and end-of-sequence the exact smoothing technique how to determine the weights for context probabilities details on handling unknown words and how to determine the weights for unknown words. note that the decisions we made yield good results for both the german and the english corpus. they do so for several other corpora as well. the architecture remains applicable to a large variety of languages. according to current tagger comparisons van halteren et al. 1998; zavrel and daelemans 1999 and according to a comparsion of the results presented here with those in ratnaparkhi 1996 the maximum entropy framework seems to be the only other approach yielding comparable results to the one presented here. it is a very interesting future research topic to determine the advantages of either of these approaches to find the reason for their high accuracies and to find a good combination of both. tnt is freely available to universities and related organizations for research purposes see http//www.coli.uni-sb.derthorstenant. many thanks go to hans uszkoreit for his support during the development of tnt. most of the work on tnt was carried out while the author received a grant of the deutsche forschungsgemeinschaft in the graduiertenkolleg kognitionswissenschaft saarbriicken. large annotated corpora are the pre-requisite for developing and testing part-ofspeech taggers and they enable the generation of high-quality language models. therefore i would like to thank all the people who took the effort to annotate the penn treebank the susanne corpus the stuttgarter referenzkorpus the negra corpus the verbmobil corpora and several others. and last but not least i would like to thank the users of tnt who provided me with bug reports and valuable suggestions for improvements.'"
            ],
            "application/vnd.google.colaboratory.intrinsic+json": {
              "type": "string"
            }
          },
          "metadata": {},
          "execution_count": 7
        }
      ]
    },
    {
      "cell_type": "code",
      "source": [
        "data['text'][0]"
      ],
      "metadata": {
        "colab": {
          "base_uri": "https://localhost:8080/",
          "height": 105
        },
        "id": "YSvQ6MI5qWdd",
        "outputId": "c4083304-c9e0-4e17-dc0c-7f883f5273af"
      },
      "execution_count": null,
      "outputs": [
        {
          "output_type": "execute_result",
          "data": {
            "text/plain": [
              "\"TnT - A Statistical Part-Of-Speech Tagger Trigrams'n'Tags (TnT) is an efficient statistical part-of-speech tagger. Contrary to claims found elsewhere in the literature, we argue that a tagger based on Markov models performs at least as well as other current approaches, including the Maximum Entropy framework. A recent comparison has even shown that TnT performs significantly better for the tested corpora. We describe the basic model of TnT, the techniques used for smoothing and for handling unknown words. Furthermore, we present evaluations on two corpora. A large number of current language processing systems use a part-of-speech tagger for pre-processing. The tagger assigns a (unique or ambiguous) part-ofspeech tag to each token in the input and passes its output to the next processing level, usually a parser. Furthermore, there is a large interest in part-ofspeech tagging for corpus annotation projects, who create valuable linguistic resources by a combination of automatic processing and human correction. For both applications, a tagger with the highest possible accuracy is required. The debate about which paradigm solves the part-of-speech tagging problem best is not finished. Recent comparisons of approaches that can be trained on corpora (van Halteren et al., 1998; Volk and Schneider, 1998) have shown that in most cases statistical aproaches (Cutting et al., 1992; Schmid, 1995; Ratnaparkhi, 1996) yield better results than finite-state, rule-based, or memory-based taggers (Brill, 1993; Daelemans et al., 1996). They are only surpassed by combinations of different systems, forming a &quot;voting tagger&quot;. Among the statistical approaches, the Maximum Entropy framework has a very strong position. Nevertheless, a recent independent comparison of 7 taggers (Zavrel and Daelemans, 1999) has shown that another approach even works better: Markov models combined with a good smoothing technique and with handling of unknown words. This tagger, TnT, not only yielded the highest accuracy, it also was the fastest both in training and tagging. The tagger comparison was organized as a &quot;blackbox test&quot;: set the same task to every tagger and compare the outcomes. This paper describes the models and techniques used by TnT together with the implementation. The reader will be surprised how simple the underlying model is. The result of the tagger comparison seems to support the maxime &quot;the simplest is the best&quot;. However, in this paper we clarify a number of details that are omitted in major previous publications concerning tagging with Markov models. As two examples, (Rabiner, 1989) and (Charniak et al., 1993) give good overviews of the techniques and equations used for Markov models and part-ofspeech tagging, but they are not very explicit in the details that are needed for their application. We argue that it is not only the choice of the general model that determines the result of the tagger but also the various &quot;small&quot; decisions on alternatives. The aim of this paper is to give a detailed account of the techniques used in TnT. Additionally, we present results of the tagger on the NEGRA corpus (Brants et al., 1999) and the Penn Treebank (Marcus et al., 1993). The Penn Treebank results reported here for the Markov model approach are at least equivalent to those reported for the Maximum Entropy approach in (Ratnaparkhi, 1996). For a comparison to other taggers, the reader is referred to (Zavrel and Daelemans, 1999). TnT uses second order Markov models for part-ofspeech tagging. The states of the model represent tags, outputs represent the words. Transition probabilities depend on the states, thus pairs of tags. Output probabilities only depend on the most recent category. To be explicit, we calculate for a given sequence of words w1 of length T. t1 tr are elements of the tagset, the additional tags t_1, to, and t7-,±1 are beginning-of-sequence and end-of-sequence markers. Using these additional tags, even if they stem from rudimentary processing of punctuation marks, slightly improves tagging results. This is different from formulas presented in other publications, which just stop with a &quot;loose end&quot; at the last word. If sentence boundaries are not marked in the input, TnT adds these tags if it encounters one of [.!? ;] as a token. Transition and output probabilities are estimated from a tagged corpus. As a first step, we use the maximum likelihood probabilities P which are derived from the relative frequencies: for all t1, t2, t3 in the tagset and w3 in the lexicon. N is the total number of tokens in the training corpus. We define a maximum likelihood probability to be zero if the corresponding nominators and denominators are zero. As a second step, contextual frequencies are smoothed and lexical frequences are completed by handling words that are not in the lexicon (see below). Trigram probabilities generated from a corpus usually cannot directly be used because of the sparsedata problem. This means that there are not enough instances for each trigram to reliably estimate the probability. Furthermore, setting a probability to zero because the corresponding trigram never occured in the corpus has an undesired effect. It causes the probability of a complete sequence to be set to zero if its use is necessary for a new text sequence, thus makes it impossible to rank different sequences containing a zero probability. The smoothing paradigm that delivers the best results in TnT is linear interpolation of unigrams, bigrams, and trigrams. Therefore, we estimate a trigram probability as follows: P are maximum likelihood estimates of the probabilities, and A1 + A2 ± A3 = 1, SO P again represent probability distributions. We use the context-independent variant of linear interpolation, i.e., the values of the As do not depend on the particular trigram. Contrary to intuition, this yields better results than the context-dependent variant. Due to sparse-data problems, one cannot estimate a different set of As for each trigram. Therefore, it is common practice to group trigrams by frequency and estimate tied sets of As. However, we are not aware of any publication that has investigated frequency groupings for linear interpolation in part-of-speech tagging. All groupings that we have tested yielded at most equivalent results to contextindependent linear interpolation. Some groupings even yielded worse results. The tested groupings included a) one set of As for each frequency value and b) two classes (low and high frequency) on the two ends of the scale, as well as several groupings in between and several settings for partitioning the classes. The values of A1, A2, and A3 are estimated by deleted interpolation. This technique successively removes each trigram from the training corpus and estimates best values for the As from all other ngrams in the corpus. Given the frequency counts for uni-, bi-, and trigrams, the weights can be very efficiently determined with a processing time linear in the number of different trigrams. The algorithm is given in figure 1. Note that subtracting 1 means taking unseen data into account. Without this subtraction the model would overfit the training data and would generally yield worse results. Currently, the method of handling unknown words that seems to work best for inflected languages is a suffix analysis as proposed in (Samuelsson, 1993). Tag probabilities are set according to the word's ending. The suffix is a strong predictor for word classes, e.g., words in the Wall Street Journal part of the Penn Treebank ending in able are adjectives (.11) in 98% of the cases (e.g. fashionable, variable) , the rest of 2% are nouns (e.g. cable, variable). The probability distribution for a particular suffix is generated from all words in the training set that share the same suffix of some predefined maximum length. The term suffix as used here means &quot;final sequence of characters of a word&quot; which is not necessarily a linguistically meaningful suffix. Probabilities are smoothed by successive abstraction. This calculates the probability of a tag t given the last m letters i of an n letter word: P(t1/7„,+1,,..ln). The sequence of increasingly more general contexts omits more and more characters of the suffix, such that P(tlin-m+2, • • • P(tlin_m+3, ,i), , P(t) are used for smoothing. The recursion formula is set A = A2 = A3 = 0 foreach trigram t1,t2,t3 with f (ti,t2,t3) >0 depending on the maximum of the following three values: for i = m ... 0, using the maximum likelihood estimates P from frequencies in the lexicon, weights Oi and the initialization For the Markov model, we need the inverse conditional probabilities P(1,2_1+1, ... /Tilt) which are obtained by Bayesian inversion. A theoretical motivated argumentation uses the standard deviation of the maximum likelihood probabilities for the weights 0, (Samuelsson, 1993). This leaves room for interpretation. We use the longest suffix that we can find in the training set (i.e., for which the frequency is greater than or equal to 1), but at most 10 characters. This is an empirically determined choice. 2) We use a context-independent approach for 0„ as we did for the contextual weights A. It turned out to be a good choice to set all 0, to the standard deviation of the unconditioned maximum likelihood probabilities of the tags in the training corpus, i.e., we set for all i = 0 ... m — 1, using a tagset of s tags and the average (11) This usually yields values in the range 0,03 ... 0.10. 3) We use different estimates for uppercase and lowercase words, i.e., we maintain two different suffix tries depending on the capitalization of the word. This information improves the tagging results. 4) Another freedom concerns the choice of the words in the lexicon that should be used for suffix handling. Should we use all words, or are some of them better suited than others? Accepting that unknown words are most probably infrequent, one can argue that using suffixes of infrequent words in the lexicon is a better approximation for unknown words than using suffixes of frequent words. Therefore, we restrict the procedure of suffix handling to words with a frequency smaller than or equal to some threshold value. Empirically, 10 turned out to be a good choice for this threshold. Additional information that turned out to be useful for the disambiguation process for several corpora and tagsets is capitalization information. Tags are usually not informative about capitalization, but probability distributions of tags around capitalized words are different from those not capitalized. The effect is larger for English, which only capitalizes proper names, and smaller for German, which capitalizes all nouns. We use flags ci that are true if wi is a capitalized word and false otherwise. These flags are added to the contextual probability distributions. Instead of and equations (3) to (5) are updated accordingly. This is equivalent to doubling the size of the tagset and using different tags depending on capitalization. The processing time of the Viterbi algorithm (Rabiner, 1989) can be reduced by introducing a beam search. Each state that receives a 6 value smaller than the largest 6 divided by some threshold value 0 is excluded from further processing. While the Viterbi algorithm is guaranteed to find the sequence of states with the highest probability, this is no longer true when beam search is added. Nevertheless, for practical purposes and the right choice of 0, there is virtually no difference between the algorithm with and without a beam. Empirically, a value of 0 = 1000 turned out to approximately double the speed of the tagger without affecting the accuracy. The tagger currently tags between 30,000 and 60,000 tokens per second (including file I/O) on a Pentium 500 running Linux. The speed mainly depends on the percentage of unknown words and on the average ambiguity rate. We evaluate the tagger's performance under several aspects. First of all, we determine the tagging accuracy averaged over ten iterations. The overall accuracy, as well as separate accuracies for known and unknown words are measured. Second, learning curves are presented, that indicate the performance when using training corpora of different sizes, starting with as few as 1,000 tokens and ranging to the size of the entire corpus (minus the test set). An important characteristic of statistical taggers is that they not only assign tags to words but also probabilities in order to rank different assignments. We distinguish reliable from unreliable assignments by the quotient of the best and second best assignmentsl . All assignments for which this quotient is larger than some threshold are regarded as reliable, the others as unreliable. As we will see below, accuracies for reliable assignments are much higher. The tests are performed on partitions of the corpora that use 90% as training set and 10% as test set, so that the test data is guaranteed to be unseen during training. Each result is obtained by repeating the experiment 10 times with different partitions and averaging the single outcomes. In all experiments, contiguous test sets are used. The alternative is a round-robin procedure that puts every 10th sentence into the test set. We argue that contiguous test sets yield more realistic results because completely unseen articles are tagged. Using the round-robin procedure, parts of an article are already seen, which significantly reduces the percentage of unknown words. Therefore, we expect even 'By definition, this quotient is oo if there is only one possible tag for a given word. higher results when testing on every 10th sentence instead of a contiguous set of 10%. In the following, accuracy denotes the number of correctly assigned tags divided by the number of tokens in the corpus processed. The tagger is allowed to assign exactly one tag to each token. We distinguish the overall accuracy, taking into account all tokens in the test corpus, and separate accuracies for known and unknown tokens. The latter are interesting, since usually unknown tokens are much more difficult to process than known tokens, for which a list of valid tags can be found in the lexicon. The German NEGRA corpus consists of 20,000 sentences (355,000 tokens) of newspaper texts (Frankfurter Rundschau) that are annotated with parts-ofspeech and predicate-argument structures (Skut et al., 1997). It was developed at the Saarland University in Saarbriicken2. Part of it was tagged at the IMS Stuttgart. This evaluation only uses the partof-speech annotation and ignores structural annotations. Tagging accuracies for the NEGRA corpus are shown in table 2. Figure 3 shows the learning curve of the tagger, i.e., the accuracy depending on the amount of training data. Training length is the number of tokens used for training. Each training length was tested ten times, training and test sets were randomly chosen and disjoint, results were averaged. The training length is given on a logarithmic scale. It is remarkable that tagging accuracy for known words is very high even for very small training corpora. This means that we have a good chance of getting the right tag if a word is seen at least once during training. Average percentages of unknown tokens are shown in the bottom line of each diagram. We exploit the fact that the tagger not only determines tags, but also assigns probabilities. If there is an alternative that has a probability &quot;close to&quot; that of the best assignment, this alternative can be viewed as almost equally well suited. The notion of &quot;close to&quot; is expressed by the distance of probabilities, and this in turn is expressed by the quotient of probabilities. So, the distance of the probabilities of a best tag tbest and an alternative tag tau is expressed by p(tbest)/P(talt)7 which is some value greater or equal to 1 since the best tag assignment has the highest probability. Figure 4 shows the accuracy when separating assignments with quotients larger and smaller than the threshold (hence reliable and unreliable assignments). As expected, we find that accuracies for percentage known unknown • overall unknowns acc. acc. acc. a Table 5: Part-of-speech tagging accuracy for the Penn Treebank. The table shows the percentage of unknown tokens, separate accuracies and standard deviations for known and unknown tokens, as well as the overall accuracy. percentage known unknown overall unknowns acc. acc. acc. reliable assignments are much higher than for unreliable assignments. This distinction is, e.g., useful for annotation projects during the cleaning process, or during pre-processing, so the tagger can emit multiple tags if the best tag is classified as unreliable. We use the Wall Street Journal as contained in the Penn Treebank for our experiments. The annotation consists of four parts: 1) a context-free structure augmented with traces to mark movement and discontinuous constituents, 2) phrasal categories that are annotated as node labels, 3) a small set of grammatical functions that are annotated as extensions to the node labels, and 4) part-of-speech tags (Marcus et al., 1993). This evaluation only uses the part-ofspeech annotation. The Wall Street Journal part of the Penn Treebank consists of approx. 50,000 sentences (1.2 million tokens). Tagging accuracies for the Penn Treebank are shown in table 5. Figure 6 shows the learning curve of the tagger, i.e., the accuracy depending on the amount of training data. Training length is the number of tokens used for training. Each training length was tested ten times. Training and test sets were disjoint, results are averaged. The training length is given on a logarithmic scale. As for the NEGRA corpus, tagging accuracy is very high for known tokens even with small amounts of training data. We exploit the fact that the tagger not only determines tags, but also assigns probabilities. Figure 7 shows the accuracy when separating assignments with quotients larger and smaller than the threshold (hence reliable and unreliable assignments). Again, we find that accuracies for reliable assignments are much higher than for unreliable assignments. Average part-of-speech tagging accuracy is between 96% and 97%, depending on language and tagset, which is at least on a par with state-of-the-art results found in the literature, possibly better. For the Penn Treebank, (Ratnaparkhi, 1996) reports an accuracy of 96.6% using the Maximum Entropy approach, our much simpler and therefore faster HMM approach delivers 96.7%. This comparison needs to be re-examined, since we use a ten-fold crossvalidation and averaging of results while Ratnaparkhi only makes one test run. The accuracy for known tokens is significantly higher than for unknown tokens. For the German newspaper data, results are 8.7% better when the word was seen before and therefore is in the lexicon, than when it was not seen before (97.7% vs. 89.0%). Accuracy for known tokens is high even with very small amounts of training data. As few as 1000 tokens are sufficient to achieve 95%-96% accuracy for them. It is important for the tagger to have seen a word at least once during training. Stochastic taggers assign probabilities to tags. We exploit the probabilities to determine reliability of assignments. For a subset that is determined during processing by the tagger we achieve accuracy rates of over 99%. The accuracy of the complement set is much lower. This information can, e.g., be exploited in an annotation project to give an additional treatment to the unreliable assignments, or to pass selected ambiguities to a subsequent processing step. We have shown that a tagger based on Markov models yields state-of-the-art results, despite contrary claims found in the literature. For example, the Markov model tagger used in the comparison of (van Halteren et al., 1998) yielded worse results than all other taggers. In our opinion, a reason for the wrong claim is that the basic algorithms leave several decisions to the implementor. The rather large amount of freedom was not handled in detail in previous publications: handling of start- and end-of-sequence, the exact smoothing technique, how to determine the weights for context probabilities, details on handling unknown words, and how to determine the weights for unknown words. Note that the decisions we made yield good results for both the German and the English Corpus. They do so for several other corpora as well. The architecture remains applicable to a large variety of languages. According to current tagger comparisons (van Halteren et al., 1998; Zavrel and Daelemans, 1999), and according to a comparsion of the results presented here with those in (Ratnaparkhi, 1996), the Maximum Entropy framework seems to be the only other approach yielding comparable results to the one presented here. It is a very interesting future research topic to determine the advantages of either of these approaches, to find the reason for their high accuracies, and to find a good combination of both. TnT is freely available to universities and related organizations for research purposes (see http://www.coli.uni-sb.derthorstenAnt). Many thanks go to Hans Uszkoreit for his support during the development of TnT. Most of the work on TnT was carried out while the author received a grant of the Deutsche Forschungsgemeinschaft in the Graduiertenkolleg Kognitionswissenschaft Saarbriicken. Large annotated corpora are the pre-requisite for developing and testing part-ofspeech taggers, and they enable the generation of high-quality language models. Therefore, I would like to thank all the people who took the effort to annotate the Penn Treebank, the Susanne Corpus, the Stuttgarter Referenzkorpus, the NEGRA Corpus, the Verbmobil Corpora, and several others. And, last but not least, I would like to thank the users of TnT who provided me with bug reports and valuable suggestions for improvements.\""
            ],
            "application/vnd.google.colaboratory.intrinsic+json": {
              "type": "string"
            }
          },
          "metadata": {},
          "execution_count": 8
        }
      ]
    },
    {
      "cell_type": "code",
      "source": [
        "cleaned_summary = [text_cleaner(text) for text in data['summary']]\n",
        "cleaned_summary[0]"
      ],
      "metadata": {
        "colab": {
          "base_uri": "https://localhost:8080/",
          "height": 87
        },
        "id": "Li3DDmr2r7qc",
        "outputId": "36459a46-e0cb-42f6-a88d-9c4a5dff4b8d"
      },
      "execution_count": null,
      "outputs": [
        {
          "output_type": "execute_result",
          "data": {
            "text/plain": [
              "'tnt a statistical part-of-speech tagger trigramsntags tnt is an efficient statistical part-of-speech tagger. contrary to claims found elsewhere in the literature we argue that a tagger based on markov models performs at least as well as other current approaches including the maximum entropy framework. a recent comparison has even shown that tnt performs significantly better for the tested corpora. we describe the basic model of tnt the techniques used for smoothing and for handling unknown words. furthermore we present evaluations on two corpora. we achieve the automated tagging of a syntactic-structure-based set of grammatical function tags including phrase-chunk and syntactic-role modifiers trained in supervised mode from a tree bank of german. '"
            ],
            "application/vnd.google.colaboratory.intrinsic+json": {
              "type": "string"
            }
          },
          "metadata": {},
          "execution_count": 9
        }
      ]
    },
    {
      "cell_type": "code",
      "source": [
        "data['summary'][0]"
      ],
      "metadata": {
        "colab": {
          "base_uri": "https://localhost:8080/",
          "height": 87
        },
        "id": "5p4J_E_mteFs",
        "outputId": "861301d1-bb28-463b-adc0-7ff25d23bc6d"
      },
      "execution_count": null,
      "outputs": [
        {
          "output_type": "execute_result",
          "data": {
            "text/plain": [
              "\"TnT - A Statistical Part-Of-Speech Tagger\\nTrigrams'n'Tags (TnT) is an efficient statistical part-of-speech tagger.\\nContrary to claims found elsewhere in the literature, we argue that a tagger based on Markov models performs at least as well as other current approaches, including the Maximum Entropy framework.\\nA recent comparison has even shown that TnT performs significantly better for the tested corpora.\\nWe describe the basic model of TnT, the techniques used for smoothing and for handling unknown words.\\nFurthermore, we present evaluations on two corpora.\\nWe achieve the automated tagging of a syntactic-structure-based set of grammatical function tags including phrase-chunk and syntactic-role modifiers trained in supervised mode from a tree bank of German.\\n\""
            ],
            "application/vnd.google.colaboratory.intrinsic+json": {
              "type": "string"
            }
          },
          "metadata": {},
          "execution_count": 10
        }
      ]
    },
    {
      "cell_type": "code",
      "source": [
        "data['cleaned_text']=cleaned_text\n",
        "data['cleaned_summary']=cleaned_summary"
      ],
      "metadata": {
        "id": "NkB85rKIvZmL"
      },
      "execution_count": null,
      "outputs": []
    },
    {
      "cell_type": "markdown",
      "source": [
        "### After we are done cleaning the text and summary, we then need to understand the distirbution of of the words in our dataset\n",
        "\n",
        "#### Here, we will analyze the length of the reviews and the summary to get an overall idea about the distribution of length of the text."
      ],
      "metadata": {
        "id": "gMo7b3nhuI8_"
      }
    },
    {
      "cell_type": "code",
      "source": [
        "import matplotlib.pyplot as plt\n",
        "text_word_count = []\n",
        "summary_word_count = []\n",
        "\n",
        "# populate the lists with sentence lengths\n",
        "for i in data['cleaned_text']:\n",
        "      text_word_count.append(len(i.split()))\n",
        "\n",
        "for i in data['cleaned_summary']:\n",
        "      summary_word_count.append(len(i.split()))\n",
        "\n",
        "length_df = pd.DataFrame({'text':text_word_count, 'summary':summary_word_count})\n",
        "length_df.hist(bins = 30)\n",
        "plt.show()"
      ],
      "metadata": {
        "colab": {
          "base_uri": "https://localhost:8080/",
          "height": 452
        },
        "id": "rspZ-W_DtgfE",
        "outputId": "9e758983-f082-46ad-f3e5-cc4bc398eb9f"
      },
      "execution_count": null,
      "outputs": [
        {
          "output_type": "display_data",
          "data": {
            "text/plain": [
              "<Figure size 640x480 with 2 Axes>"
            ],
            "image/png": "[encoded data removed]"
          },
          "metadata": {}
        }
      ]
    },
    {
      "cell_type": "markdown",
      "source": [
        "### we notice that number of words in the text column is extremly high, and since we will be using facebook/bart-large-cnn the maximum number of tokens allowed is 1024"
      ],
      "metadata": {
        "id": "-06yqy-Cy2NJ"
      }
    },
    {
      "cell_type": "code",
      "source": [
        "model_name = \"facebook/bart-large-cnn\"\n",
        "max_token_limit = tokenizer.model_max_length\n",
        "print(f\"Maximum token limit for {model_name}: {max_token_limit}\")"
      ],
      "metadata": {
        "colab": {
          "base_uri": "https://localhost:8080/",
          "height": 210
        },
        "id": "wcXkRkl9vhI5",
        "outputId": "343e0e9f-09b0-48a2-ee2b-ae510ed45684"
      },
      "execution_count": null,
      "outputs": [
        {
          "output_type": "error",
          "ename": "NameError",
          "evalue": "ignored",
          "traceback": [
            "\u001b[0;31m---------------------------------------------------------------------------\u001b[0m",
            "\u001b[0;31mNameError\u001b[0m                                 Traceback (most recent call last)",
            "\u001b[0;32m<ipython-input-17-aee06da8f43f>\u001b[0m in \u001b[0;36m<cell line: 2>\u001b[0;34m()\u001b[0m\n\u001b[1;32m      1\u001b[0m \u001b[0mmodel_name\u001b[0m \u001b[0;34m=\u001b[0m \u001b[0;34m\"facebook/bart-large-cnn\"\u001b[0m\u001b[0;34m\u001b[0m\u001b[0;34m\u001b[0m\u001b[0m\n\u001b[0;32m----> 2\u001b[0;31m \u001b[0mmax_token_limit\u001b[0m \u001b[0;34m=\u001b[0m \u001b[0mtokenizer\u001b[0m\u001b[0;34m.\u001b[0m\u001b[0mmodel_max_length\u001b[0m\u001b[0;34m\u001b[0m\u001b[0;34m\u001b[0m\u001b[0m\n\u001b[0m\u001b[1;32m      3\u001b[0m \u001b[0mprint\u001b[0m\u001b[0;34m(\u001b[0m\u001b[0;34mf\"Maximum token limit for {model_name}: {max_token_limit}\"\u001b[0m\u001b[0;34m)\u001b[0m\u001b[0;34m\u001b[0m\u001b[0;34m\u001b[0m\u001b[0m\n",
            "\u001b[0;31mNameError\u001b[0m: name 'tokenizer' is not defined"
          ]
        }
      ]
    },
    {
      "cell_type": "markdown",
      "source": [
        "### so we need a way to fix the maximum length of the text column before fine-tuning, we will use an extractive approach of text summarization to reduce the size.\n",
        "#### we will use TextRank algorithm\n",
        "\n",
        "TextRank is an extractive and unsupervised text summarization technique. Let’s take a look at the flow of the TextRank algorithm that we will be following:\n",
        "\n",
        "\n",
        "![image.png](data:image/png;base64,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)"
      ],
      "metadata": {
        "id": "zhbCm5JV4Ypw"
      }
    },
    {
      "cell_type": "markdown",
      "source": [
        "* The first step would be to concatenate all the text contained in the articles\n",
        "* Then split the text into individual sentences\n",
        "* In the next step, we will find vector representation (word embeddings) for each *and every sentence\n",
        "* Similarities between sentence vectors are then calculated and stored in a matrix\n",
        "* The similarity matrix is then converted into a graph, with sentences as vertices and similarity scores as edges, for sentence rank calculation\n",
        "* Finally, a certain number of top-ranked sentences form the final summary"
      ],
      "metadata": {
        "id": "48taRtcKNkEM"
      }
    },
    {
      "cell_type": "code",
      "source": [
        "from nltk.tokenize import sent_tokenize\n",
        "\n",
        "# split the the text in the articles into sentences\n",
        "texts = []\n",
        "for s in data['cleaned_text']:\n",
        "  texts.append(sent_tokenize(s))"
      ],
      "metadata": {
        "id": "MBwOHJgpNwV4"
      },
      "execution_count": null,
      "outputs": []
    },
    {
      "cell_type": "code",
      "source": [
        "sentences_count = []\n",
        "\n",
        "# populate the lists with lengths of sentences\n",
        "for i in texts:\n",
        "      sentences_count.append(len(i))\n",
        "\n",
        "length_df = pd.DataFrame({'Sentences Length':sentences_count})\n",
        "length_df.hist(bins = 30)\n",
        "plt.show()"
      ],
      "metadata": {
        "colab": {
          "base_uri": "https://localhost:8080/",
          "height": 452
        },
        "id": "AQEKidfcOMaw",
        "outputId": "2924d57f-6d32-4090-fe70-def312c5eebf"
      },
      "execution_count": null,
      "outputs": [
        {
          "output_type": "display_data",
          "data": {
            "text/plain": [
              "<Figure size 640x480 with 1 Axes>"
            ],
            "image/png": "[encoded data removed]"
          },
          "metadata": {}
        }
      ]
    },
    {
      "cell_type": "code",
      "source": [
        "max(sentences_count)"
      ],
      "metadata": {
        "colab": {
          "base_uri": "https://localhost:8080/"
        },
        "id": "AiT9ET_RO8oU",
        "outputId": "c9e73890-86b4-4486-b7a0-0d26a34ed8ce"
      },
      "execution_count": null,
      "outputs": [
        {
          "output_type": "execute_result",
          "data": {
            "text/plain": [
              "819"
            ]
          },
          "metadata": {},
          "execution_count": 15
        }
      ]
    },
    {
      "cell_type": "markdown",
      "source": [
        "# - - - - - - - - - - - - - - - - - - - - - - - - - - - - - - - - - - - - - - - -\n"
      ],
      "metadata": {
        "id": "mlM_IuG5XMo9"
      }
    },
    {
      "cell_type": "code",
      "source": [
        "import tensorflow_hub as hub\n",
        "\n",
        "embed = hub.load(\"https://tfhub.dev/google/universal-sentence-encoder/4\")\n",
        "\n",
        "def sentence_similarity(sent1,sent2,embed):\n",
        "    A = embed([sent1])[0]\n",
        "    B = embed([sent2])[0]\n",
        "    return 1 - (np.dot(A,B)/(np.linalg.norm(A)*np.linalg.norm(B)))"
      ],
      "metadata": {
        "id": "TPgdqaEs8jC4"
      },
      "execution_count": null,
      "outputs": []
    },
    {
      "cell_type": "code",
      "source": [
        "def build_similarity_matrix(sentences,embeds):\n",
        "    similarity_matrix = np.zeros((len(sentences),len(sentences)))\n",
        "    for idx1 in range(len(sentences)):\n",
        "        for idx2 in range(len(sentences)):\n",
        "            if idx1!=idx2:\n",
        "                similarity_matrix[idx1][idx2] = sentence_similarity(sentences[idx1],sentences[idx2],embeds)\n",
        "    return similarity_matrix"
      ],
      "metadata": {
        "id": "RBvx21m08naU"
      },
      "execution_count": null,
      "outputs": []
    },
    {
      "cell_type": "code",
      "source": [
        "def generate_summary(sentences, embeds, percentile=10):\n",
        "    top_n = int(len(sentences) * (percentile / 100))\n",
        "    summarize_text = []\n",
        "    sentence_similarity_matrix = build_similarity_matrix(sentences,embeds)\n",
        "    sentence_similarity_graph = nx.from_numpy_array(sentence_similarity_matrix)\n",
        "    scores = nx.pagerank(sentence_similarity_graph)\n",
        "    ranked_sentences = sorted(((scores[i],s) for i,s in enumerate(sentences)),reverse=True)\n",
        "    for i in range(top_n):\n",
        "        summarize_text.append(ranked_sentences[i][1])\n",
        "    return summarize_text"
      ],
      "metadata": {
        "id": "-TK8uCeL9ODh"
      },
      "execution_count": null,
      "outputs": []
    },
    {
      "cell_type": "code",
      "source": [
        "from time import time\n",
        "text_10_sent = [] # 10% of the text\n",
        "text_20_sent = [] # 20% of the text\n",
        "\n",
        "for t in texts:\n",
        "    text_10_sent.append(generate_summary(t, percentile=10, embeds=embed))\n",
        "    text_20_sent.append(generate_summary(t, percentile=20, embeds=embed))\n",
        "\n",
        "text_10 = []\n",
        "text_20 = []\n",
        "\n",
        "for i in range(len(text_10_sent)):\n",
        "    text_10.append(' '.join(text_10_sent[i]))\n",
        "    text_20.append(' '.join(text_20_sent[i]))\n",
        "\n",
        "\n",
        "data[\"text_10\"] = text_10\n",
        "data[\"text_20\"] = text_20\n",
        "\n",
        "data.head()"
      ],
      "metadata": {
        "id": "ibvLLp6aBgfL"
      },
      "execution_count": null,
      "outputs": []
    },
    {
      "cell_type": "markdown",
      "source": [
        "# - - - - - - - - - - - - - - - - - - - - - - - - - - - - - - - - - - - - - -\n",
        "### the previous is good but is not well optimized it takes too much time to generate a summary"
      ],
      "metadata": {
        "id": "_bTOUD2l7JhI"
      }
    },
    {
      "cell_type": "code",
      "source": [
        "!wget http://nlp.stanford.edu/data/glove.6B.zip\n",
        "!unzip glove*.zip"
      ],
      "metadata": {
        "colab": {
          "base_uri": "https://localhost:8080/"
        },
        "id": "y63BmU1A1aI9",
        "outputId": "abb811be-d0e3-4335-9a66-85cac26a149f"
      },
      "execution_count": null,
      "outputs": [
        {
          "output_type": "stream",
          "name": "stdout",
          "text": [
            "--2023-12-20 10:54:11--  http://nlp.stanford.edu/data/glove.6B.zip\n",
            "Resolving nlp.stanford.edu (nlp.stanford.edu)... 171.64.67.140\n",
            "Connecting to nlp.stanford.edu (nlp.stanford.edu)|171.64.67.140|:80... connected.\n",
            "HTTP request sent, awaiting response... 302 Found\n",
            "Location: https://nlp.stanford.edu/data/glove.6B.zip [following]\n",
            "--2023-12-20 10:54:11--  https://nlp.stanford.edu/data/glove.6B.zip\n",
            "Connecting to nlp.stanford.edu (nlp.stanford.edu)|171.64.67.140|:443... connected.\n",
            "HTTP request sent, awaiting response... 301 Moved Permanently\n",
            "Location: https://downloads.cs.stanford.edu/nlp/data/glove.6B.zip [following]\n",
            "--2023-12-20 10:54:11--  https://downloads.cs.stanford.edu/nlp/data/glove.6B.zip\n",
            "Resolving downloads.cs.stanford.edu (downloads.cs.stanford.edu)... 171.64.64.22\n",
            "Connecting to downloads.cs.stanford.edu (downloads.cs.stanford.edu)|171.64.64.22|:443... connected.\n",
            "HTTP request sent, awaiting response... 200 OK\n",
            "Length: 862182613 (822M) [application/zip]\n",
            "Saving to: ‘glove.6B.zip’\n",
            "\n",
            "glove.6B.zip        100%[===================>] 822.24M  5.01MB/s    in 2m 38s  \n",
            "\n",
            "2023-12-20 10:56:50 (5.19 MB/s) - ‘glove.6B.zip’ saved [862182613/862182613]\n",
            "\n",
            "Archive:  glove.6B.zip\n",
            "  inflating: glove.6B.50d.txt        \n",
            "  inflating: glove.6B.100d.txt       \n",
            "  inflating: glove.6B.200d.txt       \n",
            "  inflating: glove.6B.300d.txt       \n"
          ]
        }
      ]
    },
    {
      "cell_type": "code",
      "source": [
        "# Extract word vectors\n",
        "word_embeddings = {}\n",
        "f = open('glove.6B.50d.txt', encoding='utf-8')\n",
        "for line in f:\n",
        "    values = line.split()\n",
        "    word = values[0]\n",
        "    coefs = np.asarray(values[1:], dtype='float32')\n",
        "    word_embeddings[word] = coefs\n",
        "f.close()\n"
      ],
      "metadata": {
        "id": "5gZ2AFqdDw-T"
      },
      "execution_count": null,
      "outputs": []
    },
    {
      "cell_type": "code",
      "source": [
        "import networkx as nx\n",
        "from sklearn.metrics.pairwise import cosine_similarity\n",
        "\n",
        "def rank_sentences(text):\n",
        "    sentence_vector = []\n",
        "    for i in text:\n",
        "        if len(i) != 0:\n",
        "            # arr = []\n",
        "            # for w in i.split():\n",
        "            #     arr.append(word_embeddings.get(w, np.zeros((50,))))\n",
        "            # v = sum(arr) / (len(i.split()))\n",
        "            v = np.sum([word_embeddings.get(w, np.zeros((50,))) for w in i.split()])/(len(i.split())+0.001)\n",
        "        else:\n",
        "            v = np.zeros((50,))\n",
        "            # print(arr)\n",
        "        sentence_vector.append(v)\n",
        "\n",
        "    sim_mat = np.zeros([len(text), len(text)])\n",
        "    for i in range(len(text)):\n",
        "        for j in range(len(text)):\n",
        "            if i != j:\n",
        "                if type(sentence_vector[i]) is float or type(sentence_vector[j]) is float:\n",
        "                    continue\n",
        "                if sentence_vector[i].shape == () or sentence_vector[j].shape == ():\n",
        "                    continue\n",
        "                sim_mat[i][j] = cosine_similarity(sentence_vector[i].reshape(1,50), sentence_vector[j].reshape(1,50))[0,0]\n",
        "\n",
        "    nx_graph = nx.from_numpy_array(sim_mat)\n",
        "    scores = nx.pagerank(nx_graph)\n",
        "    return sorted(((scores[i],s) for i,s in enumerate(text)), reverse=True)\n"
      ],
      "metadata": {
        "id": "6Mwe4RgpW22B"
      },
      "execution_count": null,
      "outputs": []
    },
    {
      "cell_type": "code",
      "source": [
        " # Specify number of sentences to form the summary\n",
        "sn = 10\n",
        "\n",
        "# Generate summary\n",
        "summary = rank_sentences(texts[0])\n",
        "print(\"____________________________________\")\n",
        "for i in range(sn):\n",
        "  print(summary[i][1])\n",
        "print(\"____________________________________\")\n",
        "print(data[\"summary\"][0])"
      ],
      "metadata": {
        "colab": {
          "base_uri": "https://localhost:8080/"
        },
        "id": "DqGL_QpTXB0o",
        "outputId": "5e9f00c9-fbcf-4e5b-9f91-a10ae79d3ef0"
      },
      "execution_count": null,
      "outputs": [
        {
          "output_type": "stream",
          "name": "stdout",
          "text": [
            "____________________________________\n",
            "words in the wall street journal part of the penn treebank ending in able are adjectives .11 in 98% of the cases e.g.\n",
            "without this subtraction the model would overfit the training data and would generally yield worse results.\n",
            "while the viterbi algorithm is guaranteed to find the sequence of states with the highest probability this is no longer true when beam search is added.\n",
            "we use the wall street journal as contained in the penn treebank for our experiments.\n",
            "we use the longest suffix that we can find in the training set i.e.\n",
            "we use the context-independent variant of linear interpolation i.e.\n",
            "we use flags ci that are true if wi is a capitalized word and false otherwise.\n",
            "we set for all i = 0 ... m — 1 using a tagset of s tags and the average 11 this usually yields values in the range 003 ... 0.10.\n",
            "we maintain two different suffix tries depending on the capitalization of the word.\n",
            "we have shown that a tagger based on markov models yields state-of-the-art results despite contrary claims found in the literature.\n",
            "____________________________________\n",
            "TnT - A Statistical Part-Of-Speech Tagger\n",
            "Trigrams'n'Tags (TnT) is an efficient statistical part-of-speech tagger.\n",
            "Contrary to claims found elsewhere in the literature, we argue that a tagger based on Markov models performs at least as well as other current approaches, including the Maximum Entropy framework.\n",
            "A recent comparison has even shown that TnT performs significantly better for the tested corpora.\n",
            "We describe the basic model of TnT, the techniques used for smoothing and for handling unknown words.\n",
            "Furthermore, we present evaluations on two corpora.\n",
            "We achieve the automated tagging of a syntactic-structure-based set of grammatical function tags including phrase-chunk and syntactic-role modifiers trained in supervised mode from a tree bank of German.\n",
            "\n"
          ]
        }
      ]
    },
    {
      "cell_type": "markdown",
      "source": [
        "## Next step is to generate our new dataset with more summarized text"
      ],
      "metadata": {
        "id": "mU6Cwq27lIPB"
      }
    },
    {
      "cell_type": "code",
      "source": [
        "\n",
        "# this function receives a list of tokenized text and returns the summary\n",
        "def summarize_text(text, percentile=10):\n",
        "    n = int(len(text) * (percentile / 100))\n",
        "    s = []\n",
        "    gen_sum = rank_sentences(text)\n",
        "    for i in range(n):\n",
        "        s.append(gen_sum[i][1])\n",
        "    return s"
      ],
      "metadata": {
        "id": "HDKBXZk8-97V"
      },
      "execution_count": null,
      "outputs": []
    },
    {
      "cell_type": "code",
      "source": [
        "from time import time\n",
        "text_10_sent = [] # 10% of the text\n",
        "text_20_sent = [] # 20% of the text\n",
        "counter = 0\n",
        "start = time()\n",
        "for t in texts:\n",
        "    counter += 1\n",
        "    text_10_sent.append(summarize_text(t, 10))\n",
        "    text_20_sent.append(summarize_text(t, 20))\n",
        "print(\"number of documents :\", counter , \" took \", ((time() - start) / 60))\n",
        "\n",
        "text_10 = []\n",
        "text_20 = []\n",
        "\n",
        "for i in range(len(text_10_sent)):\n",
        "    text_10.append(' '.join(text_10_sent[i]))\n",
        "    text_20.append(' '.join(text_20_sent[i]))\n",
        "\n",
        "\n",
        "data[\"text_10\"] = text_10\n",
        "data[\"text_20\"] = text_20\n",
        "\n",
        "data.head()"
      ],
      "metadata": {
        "id": "8ov7ZtrzqUqt",
        "colab": {
          "base_uri": "https://localhost:8080/",
          "height": 640
        },
        "outputId": "c1ba763f-9ac3-4f79-8f3c-ab303adaa1be"
      },
      "execution_count": null,
      "outputs": [
        {
          "output_type": "stream",
          "name": "stdout",
          "text": [
            "number of documents : 1009  took  0.945528221130371\n"
          ]
        },
        {
          "output_type": "execute_result",
          "data": {
            "text/plain": [
              "                                                                                                                                                                                                      text  \\\n",
              "0  TnT - A Statistical Part-Of-Speech Tagger Trigrams'n'Tags (TnT) is an efficient statistical part-of-speech tagger. Contrary to claims found elsewhere in the literature, we argue that a tagger base...   \n",
              "1  Mildly Non-Projective Dependency Structures Syntactic parsing requires a fine balance between expressivity and complexity, so that naturally occurring structures can be accurately parsed without c...   \n",
              "2  Using Corpus Statistics And WordNet Relations For Sense Identification Corpus-based approaches to word sense identification have flexibility and generality but suffer from a knowledge acquisition ...   \n",
              "3  Automatic Labeling Of Semantic Roles present a system for identifying the semantic relationships, or filled by constituents of a sentence within a semantic frame. Given an input sentence and a tar...   \n",
              "4  Generative Models For Statistical Parsing With Combinatory Categorial Grammar This paper compares a number of generative probability models for a widecoverage Combinatory Categorial Gram mar (CCG)...   \n",
              "\n",
              "                                                                                                                                                                                                   summary  \\\n",
              "0  TnT - A Statistical Part-Of-Speech Tagger\\nTrigrams'n'Tags (TnT) is an efficient statistical part-of-speech tagger.\\nContrary to claims found elsewhere in the literature, we argue that a tagger ba...   \n",
              "1  Mildly Non-Projective Dependency Structures\\nSyntactic parsing requires a fine balance between expressivity and complexity, so that naturally occurring structures can be accurately parsed without ...   \n",
              "2  Using Corpus Statistics And WordNet Relations For Sense Identification\\nCorpus-based approaches to word sense identification have flexibility and generality but suffer from a knowledge acquisition...   \n",
              "3  Automatic Labeling Of Semantic Roles\\nWe present a system for identifying the semantic relationships, or semantic roles, filled by constituents of a sentence within a semantic frame.\\nGiven an inp...   \n",
              "4  Generative Models For Statistical Parsing With Combinatory Categorial Grammar\\nThis paper compares a number of generative probability models for a wide-coverage Combinatory Categorial Grammar (CCG...   \n",
              "\n",
              "                                                                                                                                                                                              cleaned_text  \\\n",
              "0  tnt a statistical part-of-speech tagger trigramsntags tnt is an efficient statistical part-of-speech tagger. contrary to claims found elsewhere in the literature we argue that a tagger based on ma...   \n",
              "1  mildly non-projective dependency structures syntactic parsing requires a fine balance between expressivity and complexity so that naturally occurring structures can be accurately parsed without co...   \n",
              "2  using corpus statistics and wordnet relations for sense identification corpus-based approaches to word sense identification have flexibility and generality but suffer from a knowledge acquisition ...   \n",
              "3  automatic labeling of semantic roles present a system for identifying the semantic relationships or filled by constituents of a sentence within a semantic frame. given an input sentence and a targ...   \n",
              "4  generative models for statistical parsing with combinatory categorial grammar this paper compares a number of generative probability models for a widecoverage combinatory categorial gram mar ccg p...   \n",
              "\n",
              "                                                                                                                                                                                           cleaned_summary  \\\n",
              "0  tnt a statistical part-of-speech tagger trigramsntags tnt is an efficient statistical part-of-speech tagger. contrary to claims found elsewhere in the literature we argue that a tagger based on ma...   \n",
              "1  mildly non-projective dependency structures syntactic parsing requires a fine balance between expressivity and complexity so that naturally occurring structures can be accurately parsed without co...   \n",
              "2  using corpus statistics and wordnet relations for sense identification corpus-based approaches to word sense identification have flexibility and generality but suffer from a knowledge acquisition ...   \n",
              "3  automatic labeling of semantic roles we present a system for identifying the semantic relationships or semantic roles filled by constituents of a sentence within a semantic frame. given an input s...   \n",
              "4  generative models for statistical parsing with combinatory categorial grammar this paper compares a number of generative probability models for a wide-coverage combinatory categorial grammar ccg p...   \n",
              "\n",
              "                                                                                                                                                                                                   text_10  \\\n",
              "0  words in the wall street journal part of the penn treebank ending in able are adjectives .11 in 98% of the cases e.g. without this subtraction the model would overfit the training data and would g...   \n",
              "1  yli-jyrä 2003 proposes multiplanarity as a generalization of planarity suitable for modelling dependency analyses and evaluates it experimentally using data from ddt. while this constraint guarant...   \n",
              "2  • • s is difficult to estimate because of the sparse data problem but if we assume as is often done that the occurrence of each cue is independent of the others then this term can be replaced with...   \n",
              "3  “make something up”; prts 2% and clauses sbars 2% and ss 2%. “gf” grammatical function in the figure represents one of the features position gov and path. writing such grammars is time consuming a...   \n",
              "4  we too can extend the baseline model described in the previous section by including more features. we replace all rare words in the training data with their pos-tag. we discuss a simple but imperf...   \n",
              "\n",
              "                                                                                                                                                                                                   text_20  \n",
              "0  words in the wall street journal part of the penn treebank ending in able are adjectives .11 in 98% of the cases e.g. without this subtraction the model would overfit the training data and would g...  \n",
              "1  yli-jyrä 2003 proposes multiplanarity as a generalization of planarity suitable for modelling dependency analyses and evaluates it experimentally using data from ddt. while this constraint guarant...  \n",
              "2  • • s is difficult to estimate because of the sparse data problem but if we assume as is often done that the occurrence of each cue is independent of the others then this term can be replaced with...  \n",
              "3  “make something up”; prts 2% and clauses sbars 2% and ss 2%. “gf” grammatical function in the figure represents one of the features position gov and path. writing such grammars is time consuming a...  \n",
              "4  we too can extend the baseline model described in the previous section by including more features. we replace all rare words in the training data with their pos-tag. we discuss a simple but imperf...  "
            ],
            "text/html": [
              "\n",
              "  <div id=\"df-1656a16f-425d-41fc-87f9-adecb657a51c\" class=\"colab-df-container\">\n",
              "    <div>\n",
              "<style scoped>\n",
              "    .dataframe tbody tr th:only-of-type {\n",
              "        vertical-align: middle;\n",
              "    }\n",
              "\n",
              "    .dataframe tbody tr th {\n",
              "        vertical-align: top;\n",
              "    }\n",
              "\n",
              "    .dataframe thead th {\n",
              "        text-align: right;\n",
              "    }\n",
              "</style>\n",
              "<table border=\"1\" class=\"dataframe\">\n",
              "  <thead>\n",
              "    <tr style=\"text-align: right;\">\n",
              "      <th></th>\n",
              "      <th>text</th>\n",
              "      <th>summary</th>\n",
              "      <th>cleaned_text</th>\n",
              "      <th>cleaned_summary</th>\n",
              "      <th>text_10</th>\n",
              "      <th>text_20</th>\n",
              "    </tr>\n",
              "  </thead>\n",
              "  <tbody>\n",
              "    <tr>\n",
              "      <th>0</th>\n",
              "      <td>TnT - A Statistical Part-Of-Speech Tagger Trigrams'n'Tags (TnT) is an efficient statistical part-of-speech tagger. Contrary to claims found elsewhere in the literature, we argue that a tagger base...</td>\n",
              "      <td>TnT - A Statistical Part-Of-Speech Tagger\\nTrigrams'n'Tags (TnT) is an efficient statistical part-of-speech tagger.\\nContrary to claims found elsewhere in the literature, we argue that a tagger ba...</td>\n",
              "      <td>tnt a statistical part-of-speech tagger trigramsntags tnt is an efficient statistical part-of-speech tagger. contrary to claims found elsewhere in the literature we argue that a tagger based on ma...</td>\n",
              "      <td>tnt a statistical part-of-speech tagger trigramsntags tnt is an efficient statistical part-of-speech tagger. contrary to claims found elsewhere in the literature we argue that a tagger based on ma...</td>\n",
              "      <td>words in the wall street journal part of the penn treebank ending in able are adjectives .11 in 98% of the cases e.g. without this subtraction the model would overfit the training data and would g...</td>\n",
              "      <td>words in the wall street journal part of the penn treebank ending in able are adjectives .11 in 98% of the cases e.g. without this subtraction the model would overfit the training data and would g...</td>\n",
              "    </tr>\n",
              "    <tr>\n",
              "      <th>1</th>\n",
              "      <td>Mildly Non-Projective Dependency Structures Syntactic parsing requires a fine balance between expressivity and complexity, so that naturally occurring structures can be accurately parsed without c...</td>\n",
              "      <td>Mildly Non-Projective Dependency Structures\\nSyntactic parsing requires a fine balance between expressivity and complexity, so that naturally occurring structures can be accurately parsed without ...</td>\n",
              "      <td>mildly non-projective dependency structures syntactic parsing requires a fine balance between expressivity and complexity so that naturally occurring structures can be accurately parsed without co...</td>\n",
              "      <td>mildly non-projective dependency structures syntactic parsing requires a fine balance between expressivity and complexity so that naturally occurring structures can be accurately parsed without co...</td>\n",
              "      <td>yli-jyrä 2003 proposes multiplanarity as a generalization of planarity suitable for modelling dependency analyses and evaluates it experimentally using data from ddt. while this constraint guarant...</td>\n",
              "      <td>yli-jyrä 2003 proposes multiplanarity as a generalization of planarity suitable for modelling dependency analyses and evaluates it experimentally using data from ddt. while this constraint guarant...</td>\n",
              "    </tr>\n",
              "    <tr>\n",
              "      <th>2</th>\n",
              "      <td>Using Corpus Statistics And WordNet Relations For Sense Identification Corpus-based approaches to word sense identification have flexibility and generality but suffer from a knowledge acquisition ...</td>\n",
              "      <td>Using Corpus Statistics And WordNet Relations For Sense Identification\\nCorpus-based approaches to word sense identification have flexibility and generality but suffer from a knowledge acquisition...</td>\n",
              "      <td>using corpus statistics and wordnet relations for sense identification corpus-based approaches to word sense identification have flexibility and generality but suffer from a knowledge acquisition ...</td>\n",
              "      <td>using corpus statistics and wordnet relations for sense identification corpus-based approaches to word sense identification have flexibility and generality but suffer from a knowledge acquisition ...</td>\n",
              "      <td>• • s is difficult to estimate because of the sparse data problem but if we assume as is often done that the occurrence of each cue is independent of the others then this term can be replaced with...</td>\n",
              "      <td>• • s is difficult to estimate because of the sparse data problem but if we assume as is often done that the occurrence of each cue is independent of the others then this term can be replaced with...</td>\n",
              "    </tr>\n",
              "    <tr>\n",
              "      <th>3</th>\n",
              "      <td>Automatic Labeling Of Semantic Roles present a system for identifying the semantic relationships, or filled by constituents of a sentence within a semantic frame. Given an input sentence and a tar...</td>\n",
              "      <td>Automatic Labeling Of Semantic Roles\\nWe present a system for identifying the semantic relationships, or semantic roles, filled by constituents of a sentence within a semantic frame.\\nGiven an inp...</td>\n",
              "      <td>automatic labeling of semantic roles present a system for identifying the semantic relationships or filled by constituents of a sentence within a semantic frame. given an input sentence and a targ...</td>\n",
              "      <td>automatic labeling of semantic roles we present a system for identifying the semantic relationships or semantic roles filled by constituents of a sentence within a semantic frame. given an input s...</td>\n",
              "      <td>“make something up”; prts 2% and clauses sbars 2% and ss 2%. “gf” grammatical function in the figure represents one of the features position gov and path. writing such grammars is time consuming a...</td>\n",
              "      <td>“make something up”; prts 2% and clauses sbars 2% and ss 2%. “gf” grammatical function in the figure represents one of the features position gov and path. writing such grammars is time consuming a...</td>\n",
              "    </tr>\n",
              "    <tr>\n",
              "      <th>4</th>\n",
              "      <td>Generative Models For Statistical Parsing With Combinatory Categorial Grammar This paper compares a number of generative probability models for a widecoverage Combinatory Categorial Gram mar (CCG)...</td>\n",
              "      <td>Generative Models For Statistical Parsing With Combinatory Categorial Grammar\\nThis paper compares a number of generative probability models for a wide-coverage Combinatory Categorial Grammar (CCG...</td>\n",
              "      <td>generative models for statistical parsing with combinatory categorial grammar this paper compares a number of generative probability models for a widecoverage combinatory categorial gram mar ccg p...</td>\n",
              "      <td>generative models for statistical parsing with combinatory categorial grammar this paper compares a number of generative probability models for a wide-coverage combinatory categorial grammar ccg p...</td>\n",
              "      <td>we too can extend the baseline model described in the previous section by including more features. we replace all rare words in the training data with their pos-tag. we discuss a simple but imperf...</td>\n",
              "      <td>we too can extend the baseline model described in the previous section by including more features. we replace all rare words in the training data with their pos-tag. we discuss a simple but imperf...</td>\n",
              "    </tr>\n",
              "  </tbody>\n",
              "</table>\n",
              "</div>\n",
              "    <div class=\"colab-df-buttons\">\n",
              "\n",
              "  <div class=\"colab-df-container\">\n",
              "    <button class=\"colab-df-convert\" onclick=\"convertToInteractive('df-1656a16f-425d-41fc-87f9-adecb657a51c')\"\n",
              "            title=\"Convert this dataframe to an interactive table.\"\n",
              "            style=\"display:none;\">\n",
              "\n",
              "  <svg xmlns=\"http://www.w3.org/2000/svg\" height=\"24px\" viewBox=\"0 -960 960 960\">\n",
              "    <path d=\"M120-120v-720h720v720H120Zm60-500h600v-160H180v160Zm220 220h160v-160H400v160Zm0 220h160v-160H400v160ZM180-400h160v-160H180v160Zm440 0h160v-160H620v160ZM180-180h160v-160H180v160Zm440 0h160v-160H620v160Z\"/>\n",
              "  </svg>\n",
              "    </button>\n",
              "\n",
              "  <style>\n",
              "    .colab-df-container {\n",
              "      display:flex;\n",
              "      gap: 12px;\n",
              "    }\n",
              "\n",
              "    .colab-df-convert {\n",
              "      background-color: #E8F0FE;\n",
              "      border: none;\n",
              "      border-radius: 50%;\n",
              "      cursor: pointer;\n",
              "      display: none;\n",
              "      fill: #1967D2;\n",
              "      height: 32px;\n",
              "      padding: 0 0 0 0;\n",
              "      width: 32px;\n",
              "    }\n",
              "\n",
              "    .colab-df-convert:hover {\n",
              "      background-color: #E2EBFA;\n",
              "      box-shadow: 0px 1px 2px rgba(60, 64, 67, 0.3), 0px 1px 3px 1px rgba(60, 64, 67, 0.15);\n",
              "      fill: #174EA6;\n",
              "    }\n",
              "\n",
              "    .colab-df-buttons div {\n",
              "      margin-bottom: 4px;\n",
              "    }\n",
              "\n",
              "    [theme=dark] .colab-df-convert {\n",
              "      background-color: #3B4455;\n",
              "      fill: #D2E3FC;\n",
              "    }\n",
              "\n",
              "    [theme=dark] .colab-df-convert:hover {\n",
              "      background-color: #434B5C;\n",
              "      box-shadow: 0px 1px 3px 1px rgba(0, 0, 0, 0.15);\n",
              "      filter: drop-shadow(0px 1px 2px rgba(0, 0, 0, 0.3));\n",
              "      fill: #FFFFFF;\n",
              "    }\n",
              "  </style>\n",
              "\n",
              "    <script>\n",
              "      const buttonEl =\n",
              "        document.querySelector('#df-1656a16f-425d-41fc-87f9-adecb657a51c button.colab-df-convert');\n",
              "      buttonEl.style.display =\n",
              "        google.colab.kernel.accessAllowed ? 'block' : 'none';\n",
              "\n",
              "      async function convertToInteractive(key) {\n",
              "        const element = document.querySelector('#df-1656a16f-425d-41fc-87f9-adecb657a51c');\n",
              "        const dataTable =\n",
              "          await google.colab.kernel.invokeFunction('convertToInteractive',\n",
              "                                                    [key], {});\n",
              "        if (!dataTable) return;\n",
              "\n",
              "        const docLinkHtml = 'Like what you see? Visit the ' +\n",
              "          '<a target=\"_blank\" href=https://colab.research.google.com/notebooks/data_table.ipynb>data table notebook</a>'\n",
              "          + ' to learn more about interactive tables.';\n",
              "        element.innerHTML = '';\n",
              "        dataTable['output_type'] = 'display_data';\n",
              "        await google.colab.output.renderOutput(dataTable, element);\n",
              "        const docLink = document.createElement('div');\n",
              "        docLink.innerHTML = docLinkHtml;\n",
              "        element.appendChild(docLink);\n",
              "      }\n",
              "    </script>\n",
              "  </div>\n",
              "\n",
              "\n",
              "<div id=\"df-1c130149-7de9-4097-9e36-bb4f2345a39a\">\n",
              "  <button class=\"colab-df-quickchart\" onclick=\"quickchart('df-1c130149-7de9-4097-9e36-bb4f2345a39a')\"\n",
              "            title=\"Suggest charts\"\n",
              "            style=\"display:none;\">\n",
              "\n",
              "<svg xmlns=\"http://www.w3.org/2000/svg\" height=\"24px\"viewBox=\"0 0 24 24\"\n",
              "     width=\"24px\">\n",
              "    <g>\n",
              "        <path d=\"M19 3H5c-1.1 0-2 .9-2 2v14c0 1.1.9 2 2 2h14c1.1 0 2-.9 2-2V5c0-1.1-.9-2-2-2zM9 17H7v-7h2v7zm4 0h-2V7h2v10zm4 0h-2v-4h2v4z\"/>\n",
              "    </g>\n",
              "</svg>\n",
              "  </button>\n",
              "\n",
              "<style>\n",
              "  .colab-df-quickchart {\n",
              "      --bg-color: #E8F0FE;\n",
              "      --fill-color: #1967D2;\n",
              "      --hover-bg-color: #E2EBFA;\n",
              "      --hover-fill-color: #174EA6;\n",
              "      --disabled-fill-color: #AAA;\n",
              "      --disabled-bg-color: #DDD;\n",
              "  }\n",
              "\n",
              "  [theme=dark] .colab-df-quickchart {\n",
              "      --bg-color: #3B4455;\n",
              "      --fill-color: #D2E3FC;\n",
              "      --hover-bg-color: #434B5C;\n",
              "      --hover-fill-color: #FFFFFF;\n",
              "      --disabled-bg-color: #3B4455;\n",
              "      --disabled-fill-color: #666;\n",
              "  }\n",
              "\n",
              "  .colab-df-quickchart {\n",
              "    background-color: var(--bg-color);\n",
              "    border: none;\n",
              "    border-radius: 50%;\n",
              "    cursor: pointer;\n",
              "    display: none;\n",
              "    fill: var(--fill-color);\n",
              "    height: 32px;\n",
              "    padding: 0;\n",
              "    width: 32px;\n",
              "  }\n",
              "\n",
              "  .colab-df-quickchart:hover {\n",
              "    background-color: var(--hover-bg-color);\n",
              "    box-shadow: 0 1px 2px rgba(60, 64, 67, 0.3), 0 1px 3px 1px rgba(60, 64, 67, 0.15);\n",
              "    fill: var(--button-hover-fill-color);\n",
              "  }\n",
              "\n",
              "  .colab-df-quickchart-complete:disabled,\n",
              "  .colab-df-quickchart-complete:disabled:hover {\n",
              "    background-color: var(--disabled-bg-color);\n",
              "    fill: var(--disabled-fill-color);\n",
              "    box-shadow: none;\n",
              "  }\n",
              "\n",
              "  .colab-df-spinner {\n",
              "    border: 2px solid var(--fill-color);\n",
              "    border-color: transparent;\n",
              "    border-bottom-color: var(--fill-color);\n",
              "    animation:\n",
              "      spin 1s steps(1) infinite;\n",
              "  }\n",
              "\n",
              "  @keyframes spin {\n",
              "    0% {\n",
              "      border-color: transparent;\n",
              "      border-bottom-color: var(--fill-color);\n",
              "      border-left-color: var(--fill-color);\n",
              "    }\n",
              "    20% {\n",
              "      border-color: transparent;\n",
              "      border-left-color: var(--fill-color);\n",
              "      border-top-color: var(--fill-color);\n",
              "    }\n",
              "    30% {\n",
              "      border-color: transparent;\n",
              "      border-left-color: var(--fill-color);\n",
              "      border-top-color: var(--fill-color);\n",
              "      border-right-color: var(--fill-color);\n",
              "    }\n",
              "    40% {\n",
              "      border-color: transparent;\n",
              "      border-right-color: var(--fill-color);\n",
              "      border-top-color: var(--fill-color);\n",
              "    }\n",
              "    60% {\n",
              "      border-color: transparent;\n",
              "      border-right-color: var(--fill-color);\n",
              "    }\n",
              "    80% {\n",
              "      border-color: transparent;\n",
              "      border-right-color: var(--fill-color);\n",
              "      border-bottom-color: var(--fill-color);\n",
              "    }\n",
              "    90% {\n",
              "      border-color: transparent;\n",
              "      border-bottom-color: var(--fill-color);\n",
              "    }\n",
              "  }\n",
              "</style>\n",
              "\n",
              "  <script>\n",
              "    async function quickchart(key) {\n",
              "      const quickchartButtonEl =\n",
              "        document.querySelector('#' + key + ' button');\n",
              "      quickchartButtonEl.disabled = true;  // To prevent multiple clicks.\n",
              "      quickchartButtonEl.classList.add('colab-df-spinner');\n",
              "      try {\n",
              "        const charts = await google.colab.kernel.invokeFunction(\n",
              "            'suggestCharts', [key], {});\n",
              "      } catch (error) {\n",
              "        console.error('Error during call to suggestCharts:', error);\n",
              "      }\n",
              "      quickchartButtonEl.classList.remove('colab-df-spinner');\n",
              "      quickchartButtonEl.classList.add('colab-df-quickchart-complete');\n",
              "    }\n",
              "    (() => {\n",
              "      let quickchartButtonEl =\n",
              "        document.querySelector('#df-1c130149-7de9-4097-9e36-bb4f2345a39a button');\n",
              "      quickchartButtonEl.style.display =\n",
              "        google.colab.kernel.accessAllowed ? 'block' : 'none';\n",
              "    })();\n",
              "  </script>\n",
              "</div>\n",
              "\n",
              "    </div>\n",
              "  </div>\n"
            ]
          },
          "metadata": {},
          "execution_count": 60
        }
      ]
    },
    {
      "cell_type": "code",
      "source": [
        "sentences_count_10 = []\n",
        "sentences_count_20 = []\n",
        "\n",
        "# populate the lists with lengths of sentences\n",
        "for i in text_10_sent:\n",
        "      sentences_count_10.append(len(i))\n",
        "for i in text_20_sent:\n",
        "      sentences_count_20.append(len(i))\n",
        "\n",
        "length_df = pd.DataFrame({'text 10%':sentences_count_10, 'text 20%':sentences_count_20})\n",
        "length_df.hist(bins = 30)\n",
        "plt.show()"
      ],
      "metadata": {
        "colab": {
          "base_uri": "https://localhost:8080/",
          "height": 452
        },
        "id": "ArUxOef0q8Kb",
        "outputId": "4332ef70-fd9e-44ad-ad5b-28133b3b53b2"
      },
      "execution_count": null,
      "outputs": [
        {
          "output_type": "display_data",
          "data": {
            "text/plain": [
              "<Figure size 640x480 with 2 Axes>"
            ],
            "image/png": "[encoded data removed]"
          },
          "metadata": {}
        }
      ]
    },
    {
      "cell_type": "markdown",
      "source": [
        "### Next we save the new dataset"
      ],
      "metadata": {
        "id": "52julFC1uz9i"
      }
    },
    {
      "cell_type": "markdown",
      "source": [
        "## we can also use in-built libraries in python like Sumy"
      ],
      "metadata": {
        "id": "SzttjJxMSpqR"
      }
    },
    {
      "cell_type": "code",
      "source": [
        "!pip install sumy==0.11.0"
      ],
      "metadata": {
        "id": "AmEDcMH0T0hZ"
      },
      "execution_count": null,
      "outputs": []
    },
    {
      "cell_type": "code",
      "source": [
        "import sumy\n",
        "from sumy.parsers.plaintext import PlaintextParser\n",
        "from sumy.nlp.tokenizers import Tokenizer\n",
        "from sumy.summarizers.lex_rank import LexRankSummarizer"
      ],
      "metadata": {
        "id": "a1MIzu6-So94"
      },
      "execution_count": null,
      "outputs": []
    },
    {
      "cell_type": "code",
      "source": [
        "def summarize_text_sumy(text, percentile=10):\n",
        "    num_sent = len(sent_tokenize(text))\n",
        "    n = int(num_sent * (percentile / 100))\n",
        "    s = ''\n",
        "    parser = PlaintextParser.from_string(text, Tokenizer(\"english\"))\n",
        "    summarizer = LexRankSummarizer()\n",
        "\n",
        "    summary = summarizer(parser.document, n)\n",
        "\n",
        "    for sentence in summary:\n",
        "        s = s + ' ' + str(sentence)\n",
        "    return s"
      ],
      "metadata": {
        "id": "tip4KsisS2Ys"
      },
      "execution_count": null,
      "outputs": []
    },
    {
      "cell_type": "code",
      "source": [
        "summarize_text_sumy(data[\"cleaned_text\"][0])"
      ],
      "metadata": {
        "colab": {
          "base_uri": "https://localhost:8080/",
          "height": 105
        },
        "id": "9cbXk-lHl-6f",
        "outputId": "309114ca-038e-4e54-c920-3a29a86cb957"
      },
      "execution_count": null,
      "outputs": [
        {
          "output_type": "execute_result",
          "data": {
            "text/plain": [
              "' we describe the basic model of tnt the techniques used for smoothing and for handling unknown words. this tagger tnt not only yielded the highest accuracy it also was the fastest both in training and tagging. additionally we present results of the tagger on the negra corpus brants et al. 1999 and the penn treebank marcus et al. 1993. the penn treebank results reported here for the markov model approach are at least equivalent to those reported for the maximum entropy approach in ratnaparkhi 1996. for a comparison to other taggers the reader is referred to zavrel and daelemans 1999. tnt uses second order markov models for part-ofspeech tagging. as a first step we use the maximum likelihood probabilities p which are derived from the relative frequencies for all t1 t2 t3 in the tagset and w3 in the lexicon. therefore we estimate a trigram probability as follows p are maximum likelihood estimates of the probabilities and a1 + a2 ± a3 = 1 so p again represent probability distributions. this technique successively removes each trigram from the training corpus and estimates best values for the as from all other ngrams in the corpus. we use the longest suffix that we can find in the training set i.e. for which the frequency is greater than or equal to 1 but at most 10 characters. 2 we use a context-independent approach for 0„ as we did for the contextual weights a. it turned out to be a good choice to set all 0 to the standard deviation of the unconditioned maximum likelihood probabilities of the tags in the training corpus i.e. we set for all i = 0 ... m — 1 using a tagset of s tags and the average 11 this usually yields values in the range 003 ... 0.10. as we will see below accuracies for reliable assignments are much higher. the tests are performed on partitions of the corpora that use 90% as training set and 10% as test set so that the test data is guaranteed to be unseen during training. training length is the number of tokens used for training. the table shows the percentage of unknown tokens separate accuracies and standard deviations for known and unknown tokens as well as the overall accuracy. tagging accuracies for the penn treebank are shown in table 5. figure 6 shows the learning curve of the tagger i.e. the accuracy depending on the amount of training data. training length is the number of tokens used for training. as for the negra corpus tagging accuracy is very high for known tokens even with small amounts of training data. average part-of-speech tagging accuracy is between 96% and 97% depending on language and tagset which is at least on a par with state-of-the-art results found in the literature possibly better. the accuracy for known tokens is significantly higher than for unknown tokens.'"
            ],
            "application/vnd.google.colaboratory.intrinsic+json": {
              "type": "string"
            }
          },
          "metadata": {},
          "execution_count": 116
        }
      ]
    },
    {
      "cell_type": "code",
      "source": [
        "text_sumy_10 = []\n",
        "text_sumy_20 = []\n",
        "counter = 0\n",
        "for t in data[\"cleaned_text\"]:\n",
        "    counter += 1\n",
        "    start = time()\n",
        "    text_sumy_10.append(summarize_text_sumy(t, 10))\n",
        "    text_sumy_20.append(summarize_text_sumy(t, 20))\n",
        "print(\"number of documents :\", counter , \"took\", time() - start, 'seconds')\n"
      ],
      "metadata": {
        "colab": {
          "base_uri": "https://localhost:8080/"
        },
        "id": "dXvjX-eKeqWg",
        "outputId": "c98e52ae-c42f-462a-f8e7-71577ee27e7b"
      },
      "execution_count": null,
      "outputs": [
        {
          "output_type": "stream",
          "name": "stdout",
          "text": [
            "number of documents : 1009 took 0.7417623996734619 seconds\n"
          ]
        }
      ]
    },
    {
      "cell_type": "code",
      "source": [
        "data.head(2)"
      ],
      "metadata": {
        "colab": {
          "base_uri": "https://localhost:8080/",
          "height": 511
        },
        "id": "htUmgYkTX3Vt",
        "outputId": "6ae14eab-8bbf-4201-cb78-6558614a5f18"
      },
      "execution_count": null,
      "outputs": [
        {
          "output_type": "execute_result",
          "data": {
            "text/plain": [
              "                                                                                                                                                                                                      text  \\\n",
              "0  TnT - A Statistical Part-Of-Speech Tagger Trigrams'n'Tags (TnT) is an efficient statistical part-of-speech tagger. Contrary to claims found elsewhere in the literature, we argue that a tagger base...   \n",
              "1  Mildly Non-Projective Dependency Structures Syntactic parsing requires a fine balance between expressivity and complexity, so that naturally occurring structures can be accurately parsed without c...   \n",
              "\n",
              "                                                                                                                                                                                                   summary  \\\n",
              "0  TnT - A Statistical Part-Of-Speech Tagger\\nTrigrams'n'Tags (TnT) is an efficient statistical part-of-speech tagger.\\nContrary to claims found elsewhere in the literature, we argue that a tagger ba...   \n",
              "1  Mildly Non-Projective Dependency Structures\\nSyntactic parsing requires a fine balance between expressivity and complexity, so that naturally occurring structures can be accurately parsed without ...   \n",
              "\n",
              "                                                                                                                                                                                              cleaned_text  \\\n",
              "0  tnt a statistical part-of-speech tagger trigramsntags tnt is an efficient statistical part-of-speech tagger. contrary to claims found elsewhere in the literature we argue that a tagger based on ma...   \n",
              "1  mildly non-projective dependency structures syntactic parsing requires a fine balance between expressivity and complexity so that naturally occurring structures can be accurately parsed without co...   \n",
              "\n",
              "                                                                                                                                                                                           cleaned_summary  \\\n",
              "0  tnt a statistical part-of-speech tagger trigramsntags tnt is an efficient statistical part-of-speech tagger. contrary to claims found elsewhere in the literature we argue that a tagger based on ma...   \n",
              "1  mildly non-projective dependency structures syntactic parsing requires a fine balance between expressivity and complexity so that naturally occurring structures can be accurately parsed without co...   \n",
              "\n",
              "                                                                                                                                                                                                   text_10  \\\n",
              "0  words in the wall street journal part of the penn treebank ending in able are adjectives .11 in 98% of the cases e.g. without this subtraction the model would overfit the training data and would g...   \n",
              "1  yli-jyrä 2003 proposes multiplanarity as a generalization of planarity suitable for modelling dependency analyses and evaluates it experimentally using data from ddt. while this constraint guarant...   \n",
              "\n",
              "                                                                                                                                                                                                   text_20  \\\n",
              "0  words in the wall street journal part of the penn treebank ending in able are adjectives .11 in 98% of the cases e.g. without this subtraction the model would overfit the training data and would g...   \n",
              "1  yli-jyrä 2003 proposes multiplanarity as a generalization of planarity suitable for modelling dependency analyses and evaluates it experimentally using data from ddt. while this constraint guarant...   \n",
              "\n",
              "                                                                                                                                                                                              text_sumy_10  \\\n",
              "0   we describe the basic model of tnt the techniques used for smoothing and for handling unknown words. this tagger tnt not only yielded the highest accuracy it also was the fastest both in training...   \n",
              "1   although such a definition can be useful we do not follow it here since it obscures the distinction between projectivity and planarity to be discussed in section 3. in contrast to acyclicity and ...   \n",
              "\n",
              "                                                                                                                                                                                              text_sumy_20  \\\n",
              "0   we describe the basic model of tnt the techniques used for smoothing and for handling unknown words. this tagger tnt not only yielded the highest accuracy it also was the fastest both in training...   \n",
              "1   although such a definition can be useful we do not follow it here since it obscures the distinction between projectivity and planarity to be discussed in section 3. in contrast to acyclicity and ...   \n",
              "\n",
              "   blue_scores_10  blue_scores_sumy  sim_scores_10  sim_scores_sumy  \n",
              "0        0.254836          0.282592       0.376645         0.340122  \n",
              "1        0.364817          0.231453       0.366517         0.528158  "
            ],
            "text/html": [
              "\n",
              "  <div id=\"df-4be148f0-7267-41ac-aa4c-274bc1ed3ad9\" class=\"colab-df-container\">\n",
              "    <div>\n",
              "<style scoped>\n",
              "    .dataframe tbody tr th:only-of-type {\n",
              "        vertical-align: middle;\n",
              "    }\n",
              "\n",
              "    .dataframe tbody tr th {\n",
              "        vertical-align: top;\n",
              "    }\n",
              "\n",
              "    .dataframe thead th {\n",
              "        text-align: right;\n",
              "    }\n",
              "</style>\n",
              "<table border=\"1\" class=\"dataframe\">\n",
              "  <thead>\n",
              "    <tr style=\"text-align: right;\">\n",
              "      <th></th>\n",
              "      <th>text</th>\n",
              "      <th>summary</th>\n",
              "      <th>cleaned_text</th>\n",
              "      <th>cleaned_summary</th>\n",
              "      <th>text_10</th>\n",
              "      <th>text_20</th>\n",
              "      <th>text_sumy_10</th>\n",
              "      <th>text_sumy_20</th>\n",
              "      <th>blue_scores_10</th>\n",
              "      <th>blue_scores_sumy</th>\n",
              "      <th>sim_scores_10</th>\n",
              "      <th>sim_scores_sumy</th>\n",
              "    </tr>\n",
              "  </thead>\n",
              "  <tbody>\n",
              "    <tr>\n",
              "      <th>0</th>\n",
              "      <td>TnT - A Statistical Part-Of-Speech Tagger Trigrams'n'Tags (TnT) is an efficient statistical part-of-speech tagger. Contrary to claims found elsewhere in the literature, we argue that a tagger base...</td>\n",
              "      <td>TnT - A Statistical Part-Of-Speech Tagger\\nTrigrams'n'Tags (TnT) is an efficient statistical part-of-speech tagger.\\nContrary to claims found elsewhere in the literature, we argue that a tagger ba...</td>\n",
              "      <td>tnt a statistical part-of-speech tagger trigramsntags tnt is an efficient statistical part-of-speech tagger. contrary to claims found elsewhere in the literature we argue that a tagger based on ma...</td>\n",
              "      <td>tnt a statistical part-of-speech tagger trigramsntags tnt is an efficient statistical part-of-speech tagger. contrary to claims found elsewhere in the literature we argue that a tagger based on ma...</td>\n",
              "      <td>words in the wall street journal part of the penn treebank ending in able are adjectives .11 in 98% of the cases e.g. without this subtraction the model would overfit the training data and would g...</td>\n",
              "      <td>words in the wall street journal part of the penn treebank ending in able are adjectives .11 in 98% of the cases e.g. without this subtraction the model would overfit the training data and would g...</td>\n",
              "      <td>we describe the basic model of tnt the techniques used for smoothing and for handling unknown words. this tagger tnt not only yielded the highest accuracy it also was the fastest both in training...</td>\n",
              "      <td>we describe the basic model of tnt the techniques used for smoothing and for handling unknown words. this tagger tnt not only yielded the highest accuracy it also was the fastest both in training...</td>\n",
              "      <td>0.254836</td>\n",
              "      <td>0.282592</td>\n",
              "      <td>0.376645</td>\n",
              "      <td>0.340122</td>\n",
              "    </tr>\n",
              "    <tr>\n",
              "      <th>1</th>\n",
              "      <td>Mildly Non-Projective Dependency Structures Syntactic parsing requires a fine balance between expressivity and complexity, so that naturally occurring structures can be accurately parsed without c...</td>\n",
              "      <td>Mildly Non-Projective Dependency Structures\\nSyntactic parsing requires a fine balance between expressivity and complexity, so that naturally occurring structures can be accurately parsed without ...</td>\n",
              "      <td>mildly non-projective dependency structures syntactic parsing requires a fine balance between expressivity and complexity so that naturally occurring structures can be accurately parsed without co...</td>\n",
              "      <td>mildly non-projective dependency structures syntactic parsing requires a fine balance between expressivity and complexity so that naturally occurring structures can be accurately parsed without co...</td>\n",
              "      <td>yli-jyrä 2003 proposes multiplanarity as a generalization of planarity suitable for modelling dependency analyses and evaluates it experimentally using data from ddt. while this constraint guarant...</td>\n",
              "      <td>yli-jyrä 2003 proposes multiplanarity as a generalization of planarity suitable for modelling dependency analyses and evaluates it experimentally using data from ddt. while this constraint guarant...</td>\n",
              "      <td>although such a definition can be useful we do not follow it here since it obscures the distinction between projectivity and planarity to be discussed in section 3. in contrast to acyclicity and ...</td>\n",
              "      <td>although such a definition can be useful we do not follow it here since it obscures the distinction between projectivity and planarity to be discussed in section 3. in contrast to acyclicity and ...</td>\n",
              "      <td>0.364817</td>\n",
              "      <td>0.231453</td>\n",
              "      <td>0.366517</td>\n",
              "      <td>0.528158</td>\n",
              "    </tr>\n",
              "  </tbody>\n",
              "</table>\n",
              "</div>\n",
              "    <div class=\"colab-df-buttons\">\n",
              "\n",
              "  <div class=\"colab-df-container\">\n",
              "    <button class=\"colab-df-convert\" onclick=\"convertToInteractive('df-4be148f0-7267-41ac-aa4c-274bc1ed3ad9')\"\n",
              "            title=\"Convert this dataframe to an interactive table.\"\n",
              "            style=\"display:none;\">\n",
              "\n",
              "  <svg xmlns=\"http://www.w3.org/2000/svg\" height=\"24px\" viewBox=\"0 -960 960 960\">\n",
              "    <path d=\"M120-120v-720h720v720H120Zm60-500h600v-160H180v160Zm220 220h160v-160H400v160Zm0 220h160v-160H400v160ZM180-400h160v-160H180v160Zm440 0h160v-160H620v160ZM180-180h160v-160H180v160Zm440 0h160v-160H620v160Z\"/>\n",
              "  </svg>\n",
              "    </button>\n",
              "\n",
              "  <style>\n",
              "    .colab-df-container {\n",
              "      display:flex;\n",
              "      gap: 12px;\n",
              "    }\n",
              "\n",
              "    .colab-df-convert {\n",
              "      background-color: #E8F0FE;\n",
              "      border: none;\n",
              "      border-radius: 50%;\n",
              "      cursor: pointer;\n",
              "      display: none;\n",
              "      fill: #1967D2;\n",
              "      height: 32px;\n",
              "      padding: 0 0 0 0;\n",
              "      width: 32px;\n",
              "    }\n",
              "\n",
              "    .colab-df-convert:hover {\n",
              "      background-color: #E2EBFA;\n",
              "      box-shadow: 0px 1px 2px rgba(60, 64, 67, 0.3), 0px 1px 3px 1px rgba(60, 64, 67, 0.15);\n",
              "      fill: #174EA6;\n",
              "    }\n",
              "\n",
              "    .colab-df-buttons div {\n",
              "      margin-bottom: 4px;\n",
              "    }\n",
              "\n",
              "    [theme=dark] .colab-df-convert {\n",
              "      background-color: #3B4455;\n",
              "      fill: #D2E3FC;\n",
              "    }\n",
              "\n",
              "    [theme=dark] .colab-df-convert:hover {\n",
              "      background-color: #434B5C;\n",
              "      box-shadow: 0px 1px 3px 1px rgba(0, 0, 0, 0.15);\n",
              "      filter: drop-shadow(0px 1px 2px rgba(0, 0, 0, 0.3));\n",
              "      fill: #FFFFFF;\n",
              "    }\n",
              "  </style>\n",
              "\n",
              "    <script>\n",
              "      const buttonEl =\n",
              "        document.querySelector('#df-4be148f0-7267-41ac-aa4c-274bc1ed3ad9 button.colab-df-convert');\n",
              "      buttonEl.style.display =\n",
              "        google.colab.kernel.accessAllowed ? 'block' : 'none';\n",
              "\n",
              "      async function convertToInteractive(key) {\n",
              "        const element = document.querySelector('#df-4be148f0-7267-41ac-aa4c-274bc1ed3ad9');\n",
              "        const dataTable =\n",
              "          await google.colab.kernel.invokeFunction('convertToInteractive',\n",
              "                                                    [key], {});\n",
              "        if (!dataTable) return;\n",
              "\n",
              "        const docLinkHtml = 'Like what you see? Visit the ' +\n",
              "          '<a target=\"_blank\" href=https://colab.research.google.com/notebooks/data_table.ipynb>data table notebook</a>'\n",
              "          + ' to learn more about interactive tables.';\n",
              "        element.innerHTML = '';\n",
              "        dataTable['output_type'] = 'display_data';\n",
              "        await google.colab.output.renderOutput(dataTable, element);\n",
              "        const docLink = document.createElement('div');\n",
              "        docLink.innerHTML = docLinkHtml;\n",
              "        element.appendChild(docLink);\n",
              "      }\n",
              "    </script>\n",
              "  </div>\n",
              "\n",
              "\n",
              "<div id=\"df-d3fc5b13-4949-452c-94be-c5146ad5f015\">\n",
              "  <button class=\"colab-df-quickchart\" onclick=\"quickchart('df-d3fc5b13-4949-452c-94be-c5146ad5f015')\"\n",
              "            title=\"Suggest charts\"\n",
              "            style=\"display:none;\">\n",
              "\n",
              "<svg xmlns=\"http://www.w3.org/2000/svg\" height=\"24px\"viewBox=\"0 0 24 24\"\n",
              "     width=\"24px\">\n",
              "    <g>\n",
              "        <path d=\"M19 3H5c-1.1 0-2 .9-2 2v14c0 1.1.9 2 2 2h14c1.1 0 2-.9 2-2V5c0-1.1-.9-2-2-2zM9 17H7v-7h2v7zm4 0h-2V7h2v10zm4 0h-2v-4h2v4z\"/>\n",
              "    </g>\n",
              "</svg>\n",
              "  </button>\n",
              "\n",
              "<style>\n",
              "  .colab-df-quickchart {\n",
              "      --bg-color: #E8F0FE;\n",
              "      --fill-color: #1967D2;\n",
              "      --hover-bg-color: #E2EBFA;\n",
              "      --hover-fill-color: #174EA6;\n",
              "      --disabled-fill-color: #AAA;\n",
              "      --disabled-bg-color: #DDD;\n",
              "  }\n",
              "\n",
              "  [theme=dark] .colab-df-quickchart {\n",
              "      --bg-color: #3B4455;\n",
              "      --fill-color: #D2E3FC;\n",
              "      --hover-bg-color: #434B5C;\n",
              "      --hover-fill-color: #FFFFFF;\n",
              "      --disabled-bg-color: #3B4455;\n",
              "      --disabled-fill-color: #666;\n",
              "  }\n",
              "\n",
              "  .colab-df-quickchart {\n",
              "    background-color: var(--bg-color);\n",
              "    border: none;\n",
              "    border-radius: 50%;\n",
              "    cursor: pointer;\n",
              "    display: none;\n",
              "    fill: var(--fill-color);\n",
              "    height: 32px;\n",
              "    padding: 0;\n",
              "    width: 32px;\n",
              "  }\n",
              "\n",
              "  .colab-df-quickchart:hover {\n",
              "    background-color: var(--hover-bg-color);\n",
              "    box-shadow: 0 1px 2px rgba(60, 64, 67, 0.3), 0 1px 3px 1px rgba(60, 64, 67, 0.15);\n",
              "    fill: var(--button-hover-fill-color);\n",
              "  }\n",
              "\n",
              "  .colab-df-quickchart-complete:disabled,\n",
              "  .colab-df-quickchart-complete:disabled:hover {\n",
              "    background-color: var(--disabled-bg-color);\n",
              "    fill: var(--disabled-fill-color);\n",
              "    box-shadow: none;\n",
              "  }\n",
              "\n",
              "  .colab-df-spinner {\n",
              "    border: 2px solid var(--fill-color);\n",
              "    border-color: transparent;\n",
              "    border-bottom-color: var(--fill-color);\n",
              "    animation:\n",
              "      spin 1s steps(1) infinite;\n",
              "  }\n",
              "\n",
              "  @keyframes spin {\n",
              "    0% {\n",
              "      border-color: transparent;\n",
              "      border-bottom-color: var(--fill-color);\n",
              "      border-left-color: var(--fill-color);\n",
              "    }\n",
              "    20% {\n",
              "      border-color: transparent;\n",
              "      border-left-color: var(--fill-color);\n",
              "      border-top-color: var(--fill-color);\n",
              "    }\n",
              "    30% {\n",
              "      border-color: transparent;\n",
              "      border-left-color: var(--fill-color);\n",
              "      border-top-color: var(--fill-color);\n",
              "      border-right-color: var(--fill-color);\n",
              "    }\n",
              "    40% {\n",
              "      border-color: transparent;\n",
              "      border-right-color: var(--fill-color);\n",
              "      border-top-color: var(--fill-color);\n",
              "    }\n",
              "    60% {\n",
              "      border-color: transparent;\n",
              "      border-right-color: var(--fill-color);\n",
              "    }\n",
              "    80% {\n",
              "      border-color: transparent;\n",
              "      border-right-color: var(--fill-color);\n",
              "      border-bottom-color: var(--fill-color);\n",
              "    }\n",
              "    90% {\n",
              "      border-color: transparent;\n",
              "      border-bottom-color: var(--fill-color);\n",
              "    }\n",
              "  }\n",
              "</style>\n",
              "\n",
              "  <script>\n",
              "    async function quickchart(key) {\n",
              "      const quickchartButtonEl =\n",
              "        document.querySelector('#' + key + ' button');\n",
              "      quickchartButtonEl.disabled = true;  // To prevent multiple clicks.\n",
              "      quickchartButtonEl.classList.add('colab-df-spinner');\n",
              "      try {\n",
              "        const charts = await google.colab.kernel.invokeFunction(\n",
              "            'suggestCharts', [key], {});\n",
              "      } catch (error) {\n",
              "        console.error('Error during call to suggestCharts:', error);\n",
              "      }\n",
              "      quickchartButtonEl.classList.remove('colab-df-spinner');\n",
              "      quickchartButtonEl.classList.add('colab-df-quickchart-complete');\n",
              "    }\n",
              "    (() => {\n",
              "      let quickchartButtonEl =\n",
              "        document.querySelector('#df-d3fc5b13-4949-452c-94be-c5146ad5f015 button');\n",
              "      quickchartButtonEl.style.display =\n",
              "        google.colab.kernel.accessAllowed ? 'block' : 'none';\n",
              "    })();\n",
              "  </script>\n",
              "</div>\n",
              "\n",
              "    </div>\n",
              "  </div>\n"
            ]
          },
          "metadata": {},
          "execution_count": 118
        }
      ]
    },
    {
      "cell_type": "code",
      "source": [
        "data[\"text_sumy_10\"] = text_sumy_10\n",
        "data[\"text_sumy_20\"] = text_sumy_20"
      ],
      "metadata": {
        "id": "KwAj5G9IsK6D"
      },
      "execution_count": null,
      "outputs": []
    },
    {
      "cell_type": "code",
      "source": [
        "data.to_csv(\"/content/drive/MyDrive/Data/scisumm_new.csv\")"
      ],
      "metadata": {
        "id": "NboXcHl7u_jK"
      },
      "execution_count": null,
      "outputs": []
    },
    {
      "cell_type": "code",
      "source": [
        "data[\"text_sumy_20\"][1]"
      ],
      "metadata": {
        "colab": {
          "base_uri": "https://localhost:8080/",
          "height": 105
        },
        "id": "DAtvbndOlX0f",
        "outputId": "ad51fa37-797f-458f-85c6-7da8fa3f97fe"
      },
      "execution_count": null,
      "outputs": [
        {
          "output_type": "execute_result",
          "data": {
            "text/plain": [
              "' in dependency-based parsing several constraints have been proposed that restrict the class of permissible structures such as projectivity planarity multi-planarity well-nestedness gap degree and edge degree. dependency-based representations have become increasingly popular in syntactic parsing especially for languages that exhibit free or flexible word order such as czech collins et al. 1999 bulgarian marinov and nivre 2005 and turkish eryi˘git and oflazer 2006. many practical implementations of dependency parsing are restricted to projective structures where the projection of a head word has to form a continuous substring of the sentence. in this paper we review a number of proposals for classes of dependency structures that lie between strictly projective and completely unrestricted non-projective structures. in section 3 we define and compare five different constraints on mildly non-projective dependency structures that can be found in the literature planarity multiplanarity well-nestedness gap degree and edge degree. although such a definition can be useful we do not follow it here since it obscures the distinction between projectivity and planarity to be discussed in section 3. in contrast to acyclicity and the indegree constraint both of which impose restrictions on the dependency relation as such the projectivity constraint concerns the interaction between the dependency relation and the positions of the nodes in the sentence it says that the nodes in a subtree of a dependency graph must form an interval where an interval with endpoints i and j is the set [i j] = {kev i i < k and k < j }. figure 2a shows a dependency graph that is planar but not projective while there are no crossing edges the yield of the node 1 the set 11 3} does not form an interval. bodirsky et al. 2005 present two structural constraints on dependency graphs that characterize analyses corresponding to derivations in tree adjoining grammar the gap degree restriction and the well-nestedness constraint. a gap is a discontinuity in the projection of a node in a dependency graph plátek et al. 2001. more precisely let 7ri be the projection of the node i. then a gap is a pair jk jk+1 of nodes adjacent in 7ri such that definition 6 the gap degree of a node i in a dependency graph gdi is the number of gaps in 7ri. as an example consider the node labelled i in the dependency graphs in figure 3. in graph 3a the projection of i is an interval 2 3 4 so i has gap degree 0. in graph 3b 7ri = 2 3 6 contains a single gap 3 6 so the gap degree of i is 1. in the rightmost graph the gap degree of i is 2 since 7ri = 2 4 6 contains two gaps 2 4 and 4 6. definition 7 the gap degree of a dependency graph g gdg is the maximum among the gap degrees of its nodes. both graph 3a and graph 3b are well-nested. definition 9 let g = v i e be a dependency forest let e = i j be an edge in e and let ge be the subgraph of g that is induced by the nodes contained in the span of e. • the degree of an edge e 2 e ede is the number of connected components c in ge such that the root of c is not dominated by the head of e. • the edge degree of g edg is the maximum among the degrees of the edges in g. to illustrate the notion of edge degree we return to figure 3. graph 3a has edge degree 0 the only edge that spans more nodes than its head and its dependent is 1 5 but the root of the connected component f2 3 4g is dominated by 1. both graph 3b and 3c have edge degree 1 the edge 3 6 in graph 3b and the edges 2 4 3 5 and 4 6 in graph 3c each span a single connected component that is not dominated by the respective head. the structural conditions we have presented here naturally fall into two groups multiplanarity gap degree and edge degree are parametric constraints with an infinite scale of possible values; planarity and well-nestedness come as binary constraints. parametric constraints with respect to the graded constraints we find that multiplanarity is different from both gap degree and edge degree in that it involves a notion of optimization since every dependency graph is m-planar for some sufficiently large m put each edge onto a separate plane the interesting question in the context of multiplanarity is about the minimal values for m that occur in real-world data. in contrast graph 4b has gap degree 1 but edge degree 2 the subtree rooted at node 2 has one gap but this gap contains two components not dominated by 2. nivre 2006 shows experimentally that limiting the permissible edge degree to 1 or 2 can reduce the average parsing time for a deterministic algorithm from quadratic to linear while omitting less than 1% of the structures found in ddt and pdt. binary constraints for the two binary constraints we find that well-nestedness subsumes planarity a graph that contains interleaving subtrees cannot be drawn without crossing edges so every planar graph must also be well-nested. in contrast to planarity well-nestedness is independent from both gap degree and edge degree in the sense that for every d > 0 there are both wellnested and non-well-nested dependency graphs with gap degree or edge degree d. all projective dependency graphs d = 0 are trivially well-nested. in this section we present an experimental evaluation of planarity well-nestedness gap degree and edge degree by examining how large a proportion of the structures found in two dependency treebanks are allowed under different constraints. degree 2. regarding the binary constraints we find that planarity accounts for slightly more than the projective structures 86.41% of the data is planar while almost all structures in ddt 99.89% meet the well-nestedness constraint. for pdt both the number of non-projective structures around 23% and the minimal degrees of non-projectivity required to cover the full data gap degree 4 and edge degree 6 are higher than in ddt. when we compare the two graded constraints to each other we find that the gap degree measure partitions the data into less and larger clusters than the edge degree which may be an advantage in the context of using the degree constraints as features in a data-driven approach towards parsing. the planarity constraint appears to be of little use as a generalization of projectivity enforcing it excludes more than 75% of the non-projective data in pdt and 90% of the data in ddt. in this paper we have reviewed a number of proposals for the characterization of mildly non-projective dependency structures motivated by the need to find a better balance between expressivity and complexity than that offered by either strictly projective or unrestricted non-projective structures. experimental evaluation based on data from two treebanks shows that a combination of the wellnestedness constraint and parametric constraints on discontinuity formalized either as gap degree or edge degree gives a very good fit with the empirical linguistic data.'"
            ],
            "application/vnd.google.colaboratory.intrinsic+json": {
              "type": "string"
            }
          },
          "metadata": {},
          "execution_count": 121
        }
      ]
    },
    {
      "cell_type": "code",
      "source": [
        "import pandas as pd\n",
        "import nltk\n",
        "data = pd.read_csv(\"/content/drive/MyDrive/Data/scisumm_new.csv\")"
      ],
      "metadata": {
        "id": "XyGsi8SgYoKH"
      },
      "execution_count": null,
      "outputs": []
    },
    {
      "cell_type": "markdown",
      "source": [
        "# Validation\n",
        "\n",
        "There are Multiple ways we can compare two sentences to compute accuracy\n",
        "\n",
        " * N-Grams/Bleu Score : Mostly used in Translation\n",
        " * Similarity Score for Computing similarity from two sentences : Used mostly for Summary comparision or similar word/sentence Search.\n",
        "\n",
        "In our case 2nd option is best but we will implement both cases and see the difference of scores."
      ],
      "metadata": {
        "id": "d-oPMQwvWozV"
      }
    },
    {
      "cell_type": "code",
      "source": [
        "hypothesis = data[\"text_10\"][0]\n",
        "reference = data[\"summary\"][0]\n",
        "BLEUscore = nltk.translate.bleu_score.sentence_bleu([reference], hypothesis)\n",
        "print(f\"BLEUscore : {BLEUscore}\")"
      ],
      "metadata": {
        "colab": {
          "base_uri": "https://localhost:8080/"
        },
        "id": "5-PiNVIivSwz",
        "outputId": "3a714908-955c-4f18-b280-2c786c94ef8d"
      },
      "execution_count": null,
      "outputs": [
        {
          "output_type": "stream",
          "name": "stdout",
          "text": [
            "BLEUscore : 0.2548361195323964\n"
          ]
        }
      ]
    },
    {
      "cell_type": "code",
      "source": [
        "import tensorflow_hub as hub\n",
        "\n",
        "embed = hub.load(\"https://tfhub.dev/google/universal-sentence-encoder/4\")\n",
        "\n",
        "def sentence_similarity(sent1,sent2,embed):\n",
        "    A = embed([sent1])[0]\n",
        "    B = embed([sent2])[0]\n",
        "    return 1 - (np.dot(A,B)/(np.linalg.norm(A)*np.linalg.norm(B)))"
      ],
      "metadata": {
        "id": "p1fZWIKnQSK0"
      },
      "execution_count": null,
      "outputs": []
    },
    {
      "cell_type": "code",
      "source": [
        "print(f\"Senetence Similarity Score : {sentence_similarity(s, reference, embed)}\")"
      ],
      "metadata": {
        "colab": {
          "base_uri": "https://localhost:8080/"
        },
        "id": "92HojIs6Re3x",
        "outputId": "34dda81c-76e4-4112-cc3d-014deacef0b2"
      },
      "execution_count": null,
      "outputs": [
        {
          "output_type": "stream",
          "name": "stdout",
          "text": [
            "Senetence Similarity Score : 0.6072643101215363\n"
          ]
        }
      ]
    },
    {
      "cell_type": "markdown",
      "source": [
        "## graphing the scores\n",
        "\n",
        "I will be comparing the new summarized texts with the existing summary"
      ],
      "metadata": {
        "id": "opgzlffFffDL"
      }
    },
    {
      "cell_type": "code",
      "source": [
        "# BLUE SCORE\n",
        "# comparing our summarized text with the original summary\n",
        "data[\"blue_scores_10\"] = data.apply(lambda row : nltk.translate.bleu_score.sentence_bleu([row[\"summary\"]], row[\"text_10\"]), axis=1)\n",
        "# comparing our summarized text (sumy) with the original summary\n",
        "data[\"blue_scores_sumy\"] = data.apply(lambda row : nltk.translate.bleu_score.sentence_bleu([row[\"summary\"]], row[\"text_sumy_10\"]), axis=1)   # comparing our summarized text (sumy) with the original summary\n",
        "# SIMILARITY SCORE\n",
        "# comparing summarized text with original summary\n",
        "data[\"sim_scores_10\"] = data.apply(lambda row : sentence_similarity(row['summary'], row['text_10'], embed), axis=1)                          # comparing summarized text with original summary\n",
        "# comparing summarized text (sumy) with original summary\n",
        "data[\"sim_scores_sumy\"] = data.apply(lambda row : sentence_similarity(row['summary'], row['text_sumy_10'], embed), axis=1)                   # comparing summarized text (sumy) with original summary\n",
        "data.head()"
      ],
      "metadata": {
        "colab": {
          "base_uri": "https://localhost:8080/",
          "height": 1000
        },
        "id": "3q0VhVL4feE6",
        "outputId": "7227d197-3a77-4b65-e082-cb3ff7e507cd"
      },
      "execution_count": null,
      "outputs": [
        {
          "output_type": "execute_result",
          "data": {
            "text/plain": [
              "                                                                                                                                                                                                      text  \\\n",
              "0  TnT - A Statistical Part-Of-Speech Tagger Trigrams'n'Tags (TnT) is an efficient statistical part-of-speech tagger. Contrary to claims found elsewhere in the literature, we argue that a tagger base...   \n",
              "1  Mildly Non-Projective Dependency Structures Syntactic parsing requires a fine balance between expressivity and complexity, so that naturally occurring structures can be accurately parsed without c...   \n",
              "2  Using Corpus Statistics And WordNet Relations For Sense Identification Corpus-based approaches to word sense identification have flexibility and generality but suffer from a knowledge acquisition ...   \n",
              "3  Automatic Labeling Of Semantic Roles present a system for identifying the semantic relationships, or filled by constituents of a sentence within a semantic frame. Given an input sentence and a tar...   \n",
              "4  Generative Models For Statistical Parsing With Combinatory Categorial Grammar This paper compares a number of generative probability models for a widecoverage Combinatory Categorial Gram mar (CCG)...   \n",
              "\n",
              "                                                                                                                                                                                                   summary  \\\n",
              "0  TnT - A Statistical Part-Of-Speech Tagger\\nTrigrams'n'Tags (TnT) is an efficient statistical part-of-speech tagger.\\nContrary to claims found elsewhere in the literature, we argue that a tagger ba...   \n",
              "1  Mildly Non-Projective Dependency Structures\\nSyntactic parsing requires a fine balance between expressivity and complexity, so that naturally occurring structures can be accurately parsed without ...   \n",
              "2  Using Corpus Statistics And WordNet Relations For Sense Identification\\nCorpus-based approaches to word sense identification have flexibility and generality but suffer from a knowledge acquisition...   \n",
              "3  Automatic Labeling Of Semantic Roles\\nWe present a system for identifying the semantic relationships, or semantic roles, filled by constituents of a sentence within a semantic frame.\\nGiven an inp...   \n",
              "4  Generative Models For Statistical Parsing With Combinatory Categorial Grammar\\nThis paper compares a number of generative probability models for a wide-coverage Combinatory Categorial Grammar (CCG...   \n",
              "\n",
              "                                                                                                                                                                                              cleaned_text  \\\n",
              "0  tnt a statistical part-of-speech tagger trigramsntags tnt is an efficient statistical part-of-speech tagger. contrary to claims found elsewhere in the literature we argue that a tagger based on ma...   \n",
              "1  mildly non-projective dependency structures syntactic parsing requires a fine balance between expressivity and complexity so that naturally occurring structures can be accurately parsed without co...   \n",
              "2  using corpus statistics and wordnet relations for sense identification corpus-based approaches to word sense identification have flexibility and generality but suffer from a knowledge acquisition ...   \n",
              "3  automatic labeling of semantic roles present a system for identifying the semantic relationships or filled by constituents of a sentence within a semantic frame. given an input sentence and a targ...   \n",
              "4  generative models for statistical parsing with combinatory categorial grammar this paper compares a number of generative probability models for a widecoverage combinatory categorial gram mar ccg p...   \n",
              "\n",
              "                                                                                                                                                                                           cleaned_summary  \\\n",
              "0  tnt a statistical part-of-speech tagger trigramsntags tnt is an efficient statistical part-of-speech tagger. contrary to claims found elsewhere in the literature we argue that a tagger based on ma...   \n",
              "1  mildly non-projective dependency structures syntactic parsing requires a fine balance between expressivity and complexity so that naturally occurring structures can be accurately parsed without co...   \n",
              "2  using corpus statistics and wordnet relations for sense identification corpus-based approaches to word sense identification have flexibility and generality but suffer from a knowledge acquisition ...   \n",
              "3  automatic labeling of semantic roles we present a system for identifying the semantic relationships or semantic roles filled by constituents of a sentence within a semantic frame. given an input s...   \n",
              "4  generative models for statistical parsing with combinatory categorial grammar this paper compares a number of generative probability models for a wide-coverage combinatory categorial grammar ccg p...   \n",
              "\n",
              "                                                                                                                                                                                                   text_10  \\\n",
              "0  words in the wall street journal part of the penn treebank ending in able are adjectives .11 in 98% of the cases e.g. without this subtraction the model would overfit the training data and would g...   \n",
              "1  yli-jyrä 2003 proposes multiplanarity as a generalization of planarity suitable for modelling dependency analyses and evaluates it experimentally using data from ddt. while this constraint guarant...   \n",
              "2  • • s is difficult to estimate because of the sparse data problem but if we assume as is often done that the occurrence of each cue is independent of the others then this term can be replaced with...   \n",
              "3  “make something up”; prts 2% and clauses sbars 2% and ss 2%. “gf” grammatical function in the figure represents one of the features position gov and path. writing such grammars is time consuming a...   \n",
              "4  we too can extend the baseline model described in the previous section by including more features. we replace all rare words in the training data with their pos-tag. we discuss a simple but imperf...   \n",
              "\n",
              "                                                                                                                                                                                                   text_20  \\\n",
              "0  words in the wall street journal part of the penn treebank ending in able are adjectives .11 in 98% of the cases e.g. without this subtraction the model would overfit the training data and would g...   \n",
              "1  yli-jyrä 2003 proposes multiplanarity as a generalization of planarity suitable for modelling dependency analyses and evaluates it experimentally using data from ddt. while this constraint guarant...   \n",
              "2  • • s is difficult to estimate because of the sparse data problem but if we assume as is often done that the occurrence of each cue is independent of the others then this term can be replaced with...   \n",
              "3  “make something up”; prts 2% and clauses sbars 2% and ss 2%. “gf” grammatical function in the figure represents one of the features position gov and path. writing such grammars is time consuming a...   \n",
              "4  we too can extend the baseline model described in the previous section by including more features. we replace all rare words in the training data with their pos-tag. we discuss a simple but imperf...   \n",
              "\n",
              "                                                                                                                                                                                              text_sumy_10  \\\n",
              "0   we describe the basic model of tnt the techniques used for smoothing and for handling unknown words. this tagger tnt not only yielded the highest accuracy it also was the fastest both in training...   \n",
              "1   although such a definition can be useful we do not follow it here since it obscures the distinction between projectivity and planarity to be discussed in section 3. in contrast to acyclicity and ...   \n",
              "2   manually tagged training materials were used in the development of tlc and the experiments in section 2. the cognitive science laboratory at princeton university with support from nsf-arpa is pro...   \n",
              "3   automatic labeling of semantic roles present a system for identifying the semantic relationships or filled by constituents of a sentence within a semantic frame. given an input sentence and a tar...   \n",
              "4   as a re sult the categorial lexicon extracted for this purposefrom the training corpus has 1207 categories com pared with the 48 pos-tags of the penn treebank.on the other hand grammar rules in c...   \n",
              "\n",
              "                                                                                                                                                                                              text_sumy_20  \\\n",
              "0   contrary to claims found elsewhere in the literature we argue that a tagger based on markov models performs at least as well as other current approaches including the maximum entropy framework. w...   \n",
              "1   in dependency-based parsing several constraints have been proposed that restrict the class of permissible structures such as projectivity planarity multi-planarity well-nestedness gap degree and ...   \n",
              "2   we describe a statistical classifier that combines topical context with local cues to identify a word sense. the classifier is used to disambiguate a noun a verb and an adjective. we describe a s...   \n",
              "3   automatic labeling of semantic roles present a system for identifying the semantic relationships or filled by constituents of a sentence within a semantic frame. given an input sentence and a tar...   \n",
              "4   as a re sult the categorial lexicon extracted for this purposefrom the training corpus has 1207 categories com pared with the 48 pos-tags of the penn treebank.on the other hand grammar rules in c...   \n",
              "\n",
              "   blue_scores_10  blue_scores_sumy  sim_scores_10  sim_scores_sumy  \n",
              "0        0.254836          0.197366       0.376645         0.373237  \n",
              "1        0.364817          0.214442       0.366517         0.512461  \n",
              "2        0.138046          0.106236       0.261607         0.335895  \n",
              "3        0.158835          0.118166       0.189138         0.224211  \n",
              "4        0.454791          0.483472       0.314025         0.367656  "
            ],
            "text/html": [
              "\n",
              "  <div id=\"df-6a11d40c-b336-43b9-96fa-1a01f9f02c3e\" class=\"colab-df-container\">\n",
              "    <div>\n",
              "<style scoped>\n",
              "    .dataframe tbody tr th:only-of-type {\n",
              "        vertical-align: middle;\n",
              "    }\n",
              "\n",
              "    .dataframe tbody tr th {\n",
              "        vertical-align: top;\n",
              "    }\n",
              "\n",
              "    .dataframe thead th {\n",
              "        text-align: right;\n",
              "    }\n",
              "</style>\n",
              "<table border=\"1\" class=\"dataframe\">\n",
              "  <thead>\n",
              "    <tr style=\"text-align: right;\">\n",
              "      <th></th>\n",
              "      <th>text</th>\n",
              "      <th>summary</th>\n",
              "      <th>cleaned_text</th>\n",
              "      <th>cleaned_summary</th>\n",
              "      <th>text_10</th>\n",
              "      <th>text_20</th>\n",
              "      <th>text_sumy_10</th>\n",
              "      <th>text_sumy_20</th>\n",
              "      <th>blue_scores_10</th>\n",
              "      <th>blue_scores_sumy</th>\n",
              "      <th>sim_scores_10</th>\n",
              "      <th>sim_scores_sumy</th>\n",
              "    </tr>\n",
              "  </thead>\n",
              "  <tbody>\n",
              "    <tr>\n",
              "      <th>0</th>\n",
              "      <td>TnT - A Statistical Part-Of-Speech Tagger Trigrams'n'Tags (TnT) is an efficient statistical part-of-speech tagger. Contrary to claims found elsewhere in the literature, we argue that a tagger base...</td>\n",
              "      <td>TnT - A Statistical Part-Of-Speech Tagger\\nTrigrams'n'Tags (TnT) is an efficient statistical part-of-speech tagger.\\nContrary to claims found elsewhere in the literature, we argue that a tagger ba...</td>\n",
              "      <td>tnt a statistical part-of-speech tagger trigramsntags tnt is an efficient statistical part-of-speech tagger. contrary to claims found elsewhere in the literature we argue that a tagger based on ma...</td>\n",
              "      <td>tnt a statistical part-of-speech tagger trigramsntags tnt is an efficient statistical part-of-speech tagger. contrary to claims found elsewhere in the literature we argue that a tagger based on ma...</td>\n",
              "      <td>words in the wall street journal part of the penn treebank ending in able are adjectives .11 in 98% of the cases e.g. without this subtraction the model would overfit the training data and would g...</td>\n",
              "      <td>words in the wall street journal part of the penn treebank ending in able are adjectives .11 in 98% of the cases e.g. without this subtraction the model would overfit the training data and would g...</td>\n",
              "      <td>we describe the basic model of tnt the techniques used for smoothing and for handling unknown words. this tagger tnt not only yielded the highest accuracy it also was the fastest both in training...</td>\n",
              "      <td>contrary to claims found elsewhere in the literature we argue that a tagger based on markov models performs at least as well as other current approaches including the maximum entropy framework. w...</td>\n",
              "      <td>0.254836</td>\n",
              "      <td>0.197366</td>\n",
              "      <td>0.376645</td>\n",
              "      <td>0.373237</td>\n",
              "    </tr>\n",
              "    <tr>\n",
              "      <th>1</th>\n",
              "      <td>Mildly Non-Projective Dependency Structures Syntactic parsing requires a fine balance between expressivity and complexity, so that naturally occurring structures can be accurately parsed without c...</td>\n",
              "      <td>Mildly Non-Projective Dependency Structures\\nSyntactic parsing requires a fine balance between expressivity and complexity, so that naturally occurring structures can be accurately parsed without ...</td>\n",
              "      <td>mildly non-projective dependency structures syntactic parsing requires a fine balance between expressivity and complexity so that naturally occurring structures can be accurately parsed without co...</td>\n",
              "      <td>mildly non-projective dependency structures syntactic parsing requires a fine balance between expressivity and complexity so that naturally occurring structures can be accurately parsed without co...</td>\n",
              "      <td>yli-jyrä 2003 proposes multiplanarity as a generalization of planarity suitable for modelling dependency analyses and evaluates it experimentally using data from ddt. while this constraint guarant...</td>\n",
              "      <td>yli-jyrä 2003 proposes multiplanarity as a generalization of planarity suitable for modelling dependency analyses and evaluates it experimentally using data from ddt. while this constraint guarant...</td>\n",
              "      <td>although such a definition can be useful we do not follow it here since it obscures the distinction between projectivity and planarity to be discussed in section 3. in contrast to acyclicity and ...</td>\n",
              "      <td>in dependency-based parsing several constraints have been proposed that restrict the class of permissible structures such as projectivity planarity multi-planarity well-nestedness gap degree and ...</td>\n",
              "      <td>0.364817</td>\n",
              "      <td>0.214442</td>\n",
              "      <td>0.366517</td>\n",
              "      <td>0.512461</td>\n",
              "    </tr>\n",
              "    <tr>\n",
              "      <th>2</th>\n",
              "      <td>Using Corpus Statistics And WordNet Relations For Sense Identification Corpus-based approaches to word sense identification have flexibility and generality but suffer from a knowledge acquisition ...</td>\n",
              "      <td>Using Corpus Statistics And WordNet Relations For Sense Identification\\nCorpus-based approaches to word sense identification have flexibility and generality but suffer from a knowledge acquisition...</td>\n",
              "      <td>using corpus statistics and wordnet relations for sense identification corpus-based approaches to word sense identification have flexibility and generality but suffer from a knowledge acquisition ...</td>\n",
              "      <td>using corpus statistics and wordnet relations for sense identification corpus-based approaches to word sense identification have flexibility and generality but suffer from a knowledge acquisition ...</td>\n",
              "      <td>• • s is difficult to estimate because of the sparse data problem but if we assume as is often done that the occurrence of each cue is independent of the others then this term can be replaced with...</td>\n",
              "      <td>• • s is difficult to estimate because of the sparse data problem but if we assume as is often done that the occurrence of each cue is independent of the others then this term can be replaced with...</td>\n",
              "      <td>manually tagged training materials were used in the development of tlc and the experiments in section 2. the cognitive science laboratory at princeton university with support from nsf-arpa is pro...</td>\n",
              "      <td>we describe a statistical classifier that combines topical context with local cues to identify a word sense. the classifier is used to disambiguate a noun a verb and an adjective. we describe a s...</td>\n",
              "      <td>0.138046</td>\n",
              "      <td>0.106236</td>\n",
              "      <td>0.261607</td>\n",
              "      <td>0.335895</td>\n",
              "    </tr>\n",
              "    <tr>\n",
              "      <th>3</th>\n",
              "      <td>Automatic Labeling Of Semantic Roles present a system for identifying the semantic relationships, or filled by constituents of a sentence within a semantic frame. Given an input sentence and a tar...</td>\n",
              "      <td>Automatic Labeling Of Semantic Roles\\nWe present a system for identifying the semantic relationships, or semantic roles, filled by constituents of a sentence within a semantic frame.\\nGiven an inp...</td>\n",
              "      <td>automatic labeling of semantic roles present a system for identifying the semantic relationships or filled by constituents of a sentence within a semantic frame. given an input sentence and a targ...</td>\n",
              "      <td>automatic labeling of semantic roles we present a system for identifying the semantic relationships or semantic roles filled by constituents of a sentence within a semantic frame. given an input s...</td>\n",
              "      <td>“make something up”; prts 2% and clauses sbars 2% and ss 2%. “gf” grammatical function in the figure represents one of the features position gov and path. writing such grammars is time consuming a...</td>\n",
              "      <td>“make something up”; prts 2% and clauses sbars 2% and ss 2%. “gf” grammatical function in the figure represents one of the features position gov and path. writing such grammars is time consuming a...</td>\n",
              "      <td>automatic labeling of semantic roles present a system for identifying the semantic relationships or filled by constituents of a sentence within a semantic frame. given an input sentence and a tar...</td>\n",
              "      <td>automatic labeling of semantic roles present a system for identifying the semantic relationships or filled by constituents of a sentence within a semantic frame. given an input sentence and a tar...</td>\n",
              "      <td>0.158835</td>\n",
              "      <td>0.118166</td>\n",
              "      <td>0.189138</td>\n",
              "      <td>0.224211</td>\n",
              "    </tr>\n",
              "    <tr>\n",
              "      <th>4</th>\n",
              "      <td>Generative Models For Statistical Parsing With Combinatory Categorial Grammar This paper compares a number of generative probability models for a widecoverage Combinatory Categorial Gram mar (CCG)...</td>\n",
              "      <td>Generative Models For Statistical Parsing With Combinatory Categorial Grammar\\nThis paper compares a number of generative probability models for a wide-coverage Combinatory Categorial Grammar (CCG...</td>\n",
              "      <td>generative models for statistical parsing with combinatory categorial grammar this paper compares a number of generative probability models for a widecoverage combinatory categorial gram mar ccg p...</td>\n",
              "      <td>generative models for statistical parsing with combinatory categorial grammar this paper compares a number of generative probability models for a wide-coverage combinatory categorial grammar ccg p...</td>\n",
              "      <td>we too can extend the baseline model described in the previous section by including more features. we replace all rare words in the training data with their pos-tag. we discuss a simple but imperf...</td>\n",
              "      <td>we too can extend the baseline model described in the previous section by including more features. we replace all rare words in the training data with their pos-tag. we discuss a simple but imperf...</td>\n",
              "      <td>as a re sult the categorial lexicon extracted for this purposefrom the training corpus has 1207 categories com pared with the 48 pos-tags of the penn treebank.on the other hand grammar rules in c...</td>\n",
              "      <td>as a re sult the categorial lexicon extracted for this purposefrom the training corpus has 1207 categories com pared with the 48 pos-tags of the penn treebank.on the other hand grammar rules in c...</td>\n",
              "      <td>0.454791</td>\n",
              "      <td>0.483472</td>\n",
              "      <td>0.314025</td>\n",
              "      <td>0.367656</td>\n",
              "    </tr>\n",
              "  </tbody>\n",
              "</table>\n",
              "</div>\n",
              "    <div class=\"colab-df-buttons\">\n",
              "\n",
              "  <div class=\"colab-df-container\">\n",
              "    <button class=\"colab-df-convert\" onclick=\"convertToInteractive('df-6a11d40c-b336-43b9-96fa-1a01f9f02c3e')\"\n",
              "            title=\"Convert this dataframe to an interactive table.\"\n",
              "            style=\"display:none;\">\n",
              "\n",
              "  <svg xmlns=\"http://www.w3.org/2000/svg\" height=\"24px\" viewBox=\"0 -960 960 960\">\n",
              "    <path d=\"M120-120v-720h720v720H120Zm60-500h600v-160H180v160Zm220 220h160v-160H400v160Zm0 220h160v-160H400v160ZM180-400h160v-160H180v160Zm440 0h160v-160H620v160ZM180-180h160v-160H180v160Zm440 0h160v-160H620v160Z\"/>\n",
              "  </svg>\n",
              "    </button>\n",
              "\n",
              "  <style>\n",
              "    .colab-df-container {\n",
              "      display:flex;\n",
              "      gap: 12px;\n",
              "    }\n",
              "\n",
              "    .colab-df-convert {\n",
              "      background-color: #E8F0FE;\n",
              "      border: none;\n",
              "      border-radius: 50%;\n",
              "      cursor: pointer;\n",
              "      display: none;\n",
              "      fill: #1967D2;\n",
              "      height: 32px;\n",
              "      padding: 0 0 0 0;\n",
              "      width: 32px;\n",
              "    }\n",
              "\n",
              "    .colab-df-convert:hover {\n",
              "      background-color: #E2EBFA;\n",
              "      box-shadow: 0px 1px 2px rgba(60, 64, 67, 0.3), 0px 1px 3px 1px rgba(60, 64, 67, 0.15);\n",
              "      fill: #174EA6;\n",
              "    }\n",
              "\n",
              "    .colab-df-buttons div {\n",
              "      margin-bottom: 4px;\n",
              "    }\n",
              "\n",
              "    [theme=dark] .colab-df-convert {\n",
              "      background-color: #3B4455;\n",
              "      fill: #D2E3FC;\n",
              "    }\n",
              "\n",
              "    [theme=dark] .colab-df-convert:hover {\n",
              "      background-color: #434B5C;\n",
              "      box-shadow: 0px 1px 3px 1px rgba(0, 0, 0, 0.15);\n",
              "      filter: drop-shadow(0px 1px 2px rgba(0, 0, 0, 0.3));\n",
              "      fill: #FFFFFF;\n",
              "    }\n",
              "  </style>\n",
              "\n",
              "    <script>\n",
              "      const buttonEl =\n",
              "        document.querySelector('#df-6a11d40c-b336-43b9-96fa-1a01f9f02c3e button.colab-df-convert');\n",
              "      buttonEl.style.display =\n",
              "        google.colab.kernel.accessAllowed ? 'block' : 'none';\n",
              "\n",
              "      async function convertToInteractive(key) {\n",
              "        const element = document.querySelector('#df-6a11d40c-b336-43b9-96fa-1a01f9f02c3e');\n",
              "        const dataTable =\n",
              "          await google.colab.kernel.invokeFunction('convertToInteractive',\n",
              "                                                    [key], {});\n",
              "        if (!dataTable) return;\n",
              "\n",
              "        const docLinkHtml = 'Like what you see? Visit the ' +\n",
              "          '<a target=\"_blank\" href=https://colab.research.google.com/notebooks/data_table.ipynb>data table notebook</a>'\n",
              "          + ' to learn more about interactive tables.';\n",
              "        element.innerHTML = '';\n",
              "        dataTable['output_type'] = 'display_data';\n",
              "        await google.colab.output.renderOutput(dataTable, element);\n",
              "        const docLink = document.createElement('div');\n",
              "        docLink.innerHTML = docLinkHtml;\n",
              "        element.appendChild(docLink);\n",
              "      }\n",
              "    </script>\n",
              "  </div>\n",
              "\n",
              "\n",
              "<div id=\"df-3cb967ef-a00c-4e04-94f2-b6c630f05ea0\">\n",
              "  <button class=\"colab-df-quickchart\" onclick=\"quickchart('df-3cb967ef-a00c-4e04-94f2-b6c630f05ea0')\"\n",
              "            title=\"Suggest charts\"\n",
              "            style=\"display:none;\">\n",
              "\n",
              "<svg xmlns=\"http://www.w3.org/2000/svg\" height=\"24px\"viewBox=\"0 0 24 24\"\n",
              "     width=\"24px\">\n",
              "    <g>\n",
              "        <path d=\"M19 3H5c-1.1 0-2 .9-2 2v14c0 1.1.9 2 2 2h14c1.1 0 2-.9 2-2V5c0-1.1-.9-2-2-2zM9 17H7v-7h2v7zm4 0h-2V7h2v10zm4 0h-2v-4h2v4z\"/>\n",
              "    </g>\n",
              "</svg>\n",
              "  </button>\n",
              "\n",
              "<style>\n",
              "  .colab-df-quickchart {\n",
              "      --bg-color: #E8F0FE;\n",
              "      --fill-color: #1967D2;\n",
              "      --hover-bg-color: #E2EBFA;\n",
              "      --hover-fill-color: #174EA6;\n",
              "      --disabled-fill-color: #AAA;\n",
              "      --disabled-bg-color: #DDD;\n",
              "  }\n",
              "\n",
              "  [theme=dark] .colab-df-quickchart {\n",
              "      --bg-color: #3B4455;\n",
              "      --fill-color: #D2E3FC;\n",
              "      --hover-bg-color: #434B5C;\n",
              "      --hover-fill-color: #FFFFFF;\n",
              "      --disabled-bg-color: #3B4455;\n",
              "      --disabled-fill-color: #666;\n",
              "  }\n",
              "\n",
              "  .colab-df-quickchart {\n",
              "    background-color: var(--bg-color);\n",
              "    border: none;\n",
              "    border-radius: 50%;\n",
              "    cursor: pointer;\n",
              "    display: none;\n",
              "    fill: var(--fill-color);\n",
              "    height: 32px;\n",
              "    padding: 0;\n",
              "    width: 32px;\n",
              "  }\n",
              "\n",
              "  .colab-df-quickchart:hover {\n",
              "    background-color: var(--hover-bg-color);\n",
              "    box-shadow: 0 1px 2px rgba(60, 64, 67, 0.3), 0 1px 3px 1px rgba(60, 64, 67, 0.15);\n",
              "    fill: var(--button-hover-fill-color);\n",
              "  }\n",
              "\n",
              "  .colab-df-quickchart-complete:disabled,\n",
              "  .colab-df-quickchart-complete:disabled:hover {\n",
              "    background-color: var(--disabled-bg-color);\n",
              "    fill: var(--disabled-fill-color);\n",
              "    box-shadow: none;\n",
              "  }\n",
              "\n",
              "  .colab-df-spinner {\n",
              "    border: 2px solid var(--fill-color);\n",
              "    border-color: transparent;\n",
              "    border-bottom-color: var(--fill-color);\n",
              "    animation:\n",
              "      spin 1s steps(1) infinite;\n",
              "  }\n",
              "\n",
              "  @keyframes spin {\n",
              "    0% {\n",
              "      border-color: transparent;\n",
              "      border-bottom-color: var(--fill-color);\n",
              "      border-left-color: var(--fill-color);\n",
              "    }\n",
              "    20% {\n",
              "      border-color: transparent;\n",
              "      border-left-color: var(--fill-color);\n",
              "      border-top-color: var(--fill-color);\n",
              "    }\n",
              "    30% {\n",
              "      border-color: transparent;\n",
              "      border-left-color: var(--fill-color);\n",
              "      border-top-color: var(--fill-color);\n",
              "      border-right-color: var(--fill-color);\n",
              "    }\n",
              "    40% {\n",
              "      border-color: transparent;\n",
              "      border-right-color: var(--fill-color);\n",
              "      border-top-color: var(--fill-color);\n",
              "    }\n",
              "    60% {\n",
              "      border-color: transparent;\n",
              "      border-right-color: var(--fill-color);\n",
              "    }\n",
              "    80% {\n",
              "      border-color: transparent;\n",
              "      border-right-color: var(--fill-color);\n",
              "      border-bottom-color: var(--fill-color);\n",
              "    }\n",
              "    90% {\n",
              "      border-color: transparent;\n",
              "      border-bottom-color: var(--fill-color);\n",
              "    }\n",
              "  }\n",
              "</style>\n",
              "\n",
              "  <script>\n",
              "    async function quickchart(key) {\n",
              "      const quickchartButtonEl =\n",
              "        document.querySelector('#' + key + ' button');\n",
              "      quickchartButtonEl.disabled = true;  // To prevent multiple clicks.\n",
              "      quickchartButtonEl.classList.add('colab-df-spinner');\n",
              "      try {\n",
              "        const charts = await google.colab.kernel.invokeFunction(\n",
              "            'suggestCharts', [key], {});\n",
              "      } catch (error) {\n",
              "        console.error('Error during call to suggestCharts:', error);\n",
              "      }\n",
              "      quickchartButtonEl.classList.remove('colab-df-spinner');\n",
              "      quickchartButtonEl.classList.add('colab-df-quickchart-complete');\n",
              "    }\n",
              "    (() => {\n",
              "      let quickchartButtonEl =\n",
              "        document.querySelector('#df-3cb967ef-a00c-4e04-94f2-b6c630f05ea0 button');\n",
              "      quickchartButtonEl.style.display =\n",
              "        google.colab.kernel.accessAllowed ? 'block' : 'none';\n",
              "    })();\n",
              "  </script>\n",
              "</div>\n",
              "\n",
              "    </div>\n",
              "  </div>\n"
            ]
          },
          "metadata": {},
          "execution_count": 122
        }
      ]
    },
    {
      "cell_type": "code",
      "source": [
        "data.describe()"
      ],
      "metadata": {
        "colab": {
          "base_uri": "https://localhost:8080/",
          "height": 300
        },
        "id": "UdG7e7XxC9T4",
        "outputId": "147dda34-9367-42d2-c431-5fcaf339f5ec"
      },
      "execution_count": null,
      "outputs": [
        {
          "output_type": "execute_result",
          "data": {
            "text/plain": [
              "       blue_scores_10  blue_scores_sumy  sim_scores_10  sim_scores_sumy\n",
              "count     1009.000000       1009.000000    1009.000000      1009.000000\n",
              "mean         0.295397          0.220965       0.337154         0.326027\n",
              "std          0.113698          0.099303       0.111104         0.115872\n",
              "min          0.000000          0.000000       0.119883         0.097837\n",
              "25%          0.216771          0.154996       0.263778         0.249041\n",
              "50%          0.290656          0.209195       0.318676         0.308840\n",
              "75%          0.364381          0.269378       0.386095         0.371483\n",
              "max          0.638841          0.665368       1.004896         1.004896"
            ],
            "text/html": [
              "\n",
              "  <div id=\"df-c9657f73-a347-40c7-a382-efe704121de0\" class=\"colab-df-container\">\n",
              "    <div>\n",
              "<style scoped>\n",
              "    .dataframe tbody tr th:only-of-type {\n",
              "        vertical-align: middle;\n",
              "    }\n",
              "\n",
              "    .dataframe tbody tr th {\n",
              "        vertical-align: top;\n",
              "    }\n",
              "\n",
              "    .dataframe thead th {\n",
              "        text-align: right;\n",
              "    }\n",
              "</style>\n",
              "<table border=\"1\" class=\"dataframe\">\n",
              "  <thead>\n",
              "    <tr style=\"text-align: right;\">\n",
              "      <th></th>\n",
              "      <th>blue_scores_10</th>\n",
              "      <th>blue_scores_sumy</th>\n",
              "      <th>sim_scores_10</th>\n",
              "      <th>sim_scores_sumy</th>\n",
              "    </tr>\n",
              "  </thead>\n",
              "  <tbody>\n",
              "    <tr>\n",
              "      <th>count</th>\n",
              "      <td>1009.000000</td>\n",
              "      <td>1009.000000</td>\n",
              "      <td>1009.000000</td>\n",
              "      <td>1009.000000</td>\n",
              "    </tr>\n",
              "    <tr>\n",
              "      <th>mean</th>\n",
              "      <td>0.295397</td>\n",
              "      <td>0.220965</td>\n",
              "      <td>0.337154</td>\n",
              "      <td>0.326027</td>\n",
              "    </tr>\n",
              "    <tr>\n",
              "      <th>std</th>\n",
              "      <td>0.113698</td>\n",
              "      <td>0.099303</td>\n",
              "      <td>0.111104</td>\n",
              "      <td>0.115872</td>\n",
              "    </tr>\n",
              "    <tr>\n",
              "      <th>min</th>\n",
              "      <td>0.000000</td>\n",
              "      <td>0.000000</td>\n",
              "      <td>0.119883</td>\n",
              "      <td>0.097837</td>\n",
              "    </tr>\n",
              "    <tr>\n",
              "      <th>25%</th>\n",
              "      <td>0.216771</td>\n",
              "      <td>0.154996</td>\n",
              "      <td>0.263778</td>\n",
              "      <td>0.249041</td>\n",
              "    </tr>\n",
              "    <tr>\n",
              "      <th>50%</th>\n",
              "      <td>0.290656</td>\n",
              "      <td>0.209195</td>\n",
              "      <td>0.318676</td>\n",
              "      <td>0.308840</td>\n",
              "    </tr>\n",
              "    <tr>\n",
              "      <th>75%</th>\n",
              "      <td>0.364381</td>\n",
              "      <td>0.269378</td>\n",
              "      <td>0.386095</td>\n",
              "      <td>0.371483</td>\n",
              "    </tr>\n",
              "    <tr>\n",
              "      <th>max</th>\n",
              "      <td>0.638841</td>\n",
              "      <td>0.665368</td>\n",
              "      <td>1.004896</td>\n",
              "      <td>1.004896</td>\n",
              "    </tr>\n",
              "  </tbody>\n",
              "</table>\n",
              "</div>\n",
              "    <div class=\"colab-df-buttons\">\n",
              "\n",
              "  <div class=\"colab-df-container\">\n",
              "    <button class=\"colab-df-convert\" onclick=\"convertToInteractive('df-c9657f73-a347-40c7-a382-efe704121de0')\"\n",
              "            title=\"Convert this dataframe to an interactive table.\"\n",
              "            style=\"display:none;\">\n",
              "\n",
              "  <svg xmlns=\"http://www.w3.org/2000/svg\" height=\"24px\" viewBox=\"0 -960 960 960\">\n",
              "    <path d=\"M120-120v-720h720v720H120Zm60-500h600v-160H180v160Zm220 220h160v-160H400v160Zm0 220h160v-160H400v160ZM180-400h160v-160H180v160Zm440 0h160v-160H620v160ZM180-180h160v-160H180v160Zm440 0h160v-160H620v160Z\"/>\n",
              "  </svg>\n",
              "    </button>\n",
              "\n",
              "  <style>\n",
              "    .colab-df-container {\n",
              "      display:flex;\n",
              "      gap: 12px;\n",
              "    }\n",
              "\n",
              "    .colab-df-convert {\n",
              "      background-color: #E8F0FE;\n",
              "      border: none;\n",
              "      border-radius: 50%;\n",
              "      cursor: pointer;\n",
              "      display: none;\n",
              "      fill: #1967D2;\n",
              "      height: 32px;\n",
              "      padding: 0 0 0 0;\n",
              "      width: 32px;\n",
              "    }\n",
              "\n",
              "    .colab-df-convert:hover {\n",
              "      background-color: #E2EBFA;\n",
              "      box-shadow: 0px 1px 2px rgba(60, 64, 67, 0.3), 0px 1px 3px 1px rgba(60, 64, 67, 0.15);\n",
              "      fill: #174EA6;\n",
              "    }\n",
              "\n",
              "    .colab-df-buttons div {\n",
              "      margin-bottom: 4px;\n",
              "    }\n",
              "\n",
              "    [theme=dark] .colab-df-convert {\n",
              "      background-color: #3B4455;\n",
              "      fill: #D2E3FC;\n",
              "    }\n",
              "\n",
              "    [theme=dark] .colab-df-convert:hover {\n",
              "      background-color: #434B5C;\n",
              "      box-shadow: 0px 1px 3px 1px rgba(0, 0, 0, 0.15);\n",
              "      filter: drop-shadow(0px 1px 2px rgba(0, 0, 0, 0.3));\n",
              "      fill: #FFFFFF;\n",
              "    }\n",
              "  </style>\n",
              "\n",
              "    <script>\n",
              "      const buttonEl =\n",
              "        document.querySelector('#df-c9657f73-a347-40c7-a382-efe704121de0 button.colab-df-convert');\n",
              "      buttonEl.style.display =\n",
              "        google.colab.kernel.accessAllowed ? 'block' : 'none';\n",
              "\n",
              "      async function convertToInteractive(key) {\n",
              "        const element = document.querySelector('#df-c9657f73-a347-40c7-a382-efe704121de0');\n",
              "        const dataTable =\n",
              "          await google.colab.kernel.invokeFunction('convertToInteractive',\n",
              "                                                    [key], {});\n",
              "        if (!dataTable) return;\n",
              "\n",
              "        const docLinkHtml = 'Like what you see? Visit the ' +\n",
              "          '<a target=\"_blank\" href=https://colab.research.google.com/notebooks/data_table.ipynb>data table notebook</a>'\n",
              "          + ' to learn more about interactive tables.';\n",
              "        element.innerHTML = '';\n",
              "        dataTable['output_type'] = 'display_data';\n",
              "        await google.colab.output.renderOutput(dataTable, element);\n",
              "        const docLink = document.createElement('div');\n",
              "        docLink.innerHTML = docLinkHtml;\n",
              "        element.appendChild(docLink);\n",
              "      }\n",
              "    </script>\n",
              "  </div>\n",
              "\n",
              "\n",
              "<div id=\"df-5d3f5a07-ddc4-405e-ae4d-37094f0e8ae3\">\n",
              "  <button class=\"colab-df-quickchart\" onclick=\"quickchart('df-5d3f5a07-ddc4-405e-ae4d-37094f0e8ae3')\"\n",
              "            title=\"Suggest charts\"\n",
              "            style=\"display:none;\">\n",
              "\n",
              "<svg xmlns=\"http://www.w3.org/2000/svg\" height=\"24px\"viewBox=\"0 0 24 24\"\n",
              "     width=\"24px\">\n",
              "    <g>\n",
              "        <path d=\"M19 3H5c-1.1 0-2 .9-2 2v14c0 1.1.9 2 2 2h14c1.1 0 2-.9 2-2V5c0-1.1-.9-2-2-2zM9 17H7v-7h2v7zm4 0h-2V7h2v10zm4 0h-2v-4h2v4z\"/>\n",
              "    </g>\n",
              "</svg>\n",
              "  </button>\n",
              "\n",
              "<style>\n",
              "  .colab-df-quickchart {\n",
              "      --bg-color: #E8F0FE;\n",
              "      --fill-color: #1967D2;\n",
              "      --hover-bg-color: #E2EBFA;\n",
              "      --hover-fill-color: #174EA6;\n",
              "      --disabled-fill-color: #AAA;\n",
              "      --disabled-bg-color: #DDD;\n",
              "  }\n",
              "\n",
              "  [theme=dark] .colab-df-quickchart {\n",
              "      --bg-color: #3B4455;\n",
              "      --fill-color: #D2E3FC;\n",
              "      --hover-bg-color: #434B5C;\n",
              "      --hover-fill-color: #FFFFFF;\n",
              "      --disabled-bg-color: #3B4455;\n",
              "      --disabled-fill-color: #666;\n",
              "  }\n",
              "\n",
              "  .colab-df-quickchart {\n",
              "    background-color: var(--bg-color);\n",
              "    border: none;\n",
              "    border-radius: 50%;\n",
              "    cursor: pointer;\n",
              "    display: none;\n",
              "    fill: var(--fill-color);\n",
              "    height: 32px;\n",
              "    padding: 0;\n",
              "    width: 32px;\n",
              "  }\n",
              "\n",
              "  .colab-df-quickchart:hover {\n",
              "    background-color: var(--hover-bg-color);\n",
              "    box-shadow: 0 1px 2px rgba(60, 64, 67, 0.3), 0 1px 3px 1px rgba(60, 64, 67, 0.15);\n",
              "    fill: var(--button-hover-fill-color);\n",
              "  }\n",
              "\n",
              "  .colab-df-quickchart-complete:disabled,\n",
              "  .colab-df-quickchart-complete:disabled:hover {\n",
              "    background-color: var(--disabled-bg-color);\n",
              "    fill: var(--disabled-fill-color);\n",
              "    box-shadow: none;\n",
              "  }\n",
              "\n",
              "  .colab-df-spinner {\n",
              "    border: 2px solid var(--fill-color);\n",
              "    border-color: transparent;\n",
              "    border-bottom-color: var(--fill-color);\n",
              "    animation:\n",
              "      spin 1s steps(1) infinite;\n",
              "  }\n",
              "\n",
              "  @keyframes spin {\n",
              "    0% {\n",
              "      border-color: transparent;\n",
              "      border-bottom-color: var(--fill-color);\n",
              "      border-left-color: var(--fill-color);\n",
              "    }\n",
              "    20% {\n",
              "      border-color: transparent;\n",
              "      border-left-color: var(--fill-color);\n",
              "      border-top-color: var(--fill-color);\n",
              "    }\n",
              "    30% {\n",
              "      border-color: transparent;\n",
              "      border-left-color: var(--fill-color);\n",
              "      border-top-color: var(--fill-color);\n",
              "      border-right-color: var(--fill-color);\n",
              "    }\n",
              "    40% {\n",
              "      border-color: transparent;\n",
              "      border-right-color: var(--fill-color);\n",
              "      border-top-color: var(--fill-color);\n",
              "    }\n",
              "    60% {\n",
              "      border-color: transparent;\n",
              "      border-right-color: var(--fill-color);\n",
              "    }\n",
              "    80% {\n",
              "      border-color: transparent;\n",
              "      border-right-color: var(--fill-color);\n",
              "      border-bottom-color: var(--fill-color);\n",
              "    }\n",
              "    90% {\n",
              "      border-color: transparent;\n",
              "      border-bottom-color: var(--fill-color);\n",
              "    }\n",
              "  }\n",
              "</style>\n",
              "\n",
              "  <script>\n",
              "    async function quickchart(key) {\n",
              "      const quickchartButtonEl =\n",
              "        document.querySelector('#' + key + ' button');\n",
              "      quickchartButtonEl.disabled = true;  // To prevent multiple clicks.\n",
              "      quickchartButtonEl.classList.add('colab-df-spinner');\n",
              "      try {\n",
              "        const charts = await google.colab.kernel.invokeFunction(\n",
              "            'suggestCharts', [key], {});\n",
              "      } catch (error) {\n",
              "        console.error('Error during call to suggestCharts:', error);\n",
              "      }\n",
              "      quickchartButtonEl.classList.remove('colab-df-spinner');\n",
              "      quickchartButtonEl.classList.add('colab-df-quickchart-complete');\n",
              "    }\n",
              "    (() => {\n",
              "      let quickchartButtonEl =\n",
              "        document.querySelector('#df-5d3f5a07-ddc4-405e-ae4d-37094f0e8ae3 button');\n",
              "      quickchartButtonEl.style.display =\n",
              "        google.colab.kernel.accessAllowed ? 'block' : 'none';\n",
              "    })();\n",
              "  </script>\n",
              "</div>\n",
              "\n",
              "    </div>\n",
              "  </div>\n"
            ]
          },
          "metadata": {},
          "execution_count": 123
        }
      ]
    },
    {
      "cell_type": "code",
      "source": [
        "scores_df = data[[\"blue_scores_10\", 'blue_scores_sumy', 'sim_scores_10','sim_scores_sumy']]\n",
        "scores_df.hist(bins = 30)\n",
        "plt.show()"
      ],
      "metadata": {
        "colab": {
          "base_uri": "https://localhost:8080/",
          "height": 452
        },
        "id": "IhojlAjRFZGz",
        "outputId": "0e455d11-f2b7-458f-9149-adbc09c214e4"
      },
      "execution_count": null,
      "outputs": [
        {
          "output_type": "display_data",
          "data": {
            "text/plain": [
              "<Figure size 640x480 with 4 Axes>"
            ],
            "image/png": "[encoded data removed]"
          },
          "metadata": {}
        }
      ]
    },
    {
      "cell_type": "code",
      "source": [],
      "metadata": {
        "id": "mkDR2RfmHVon"
      },
      "execution_count": null,
      "outputs": []
    },
    {
      "cell_type": "markdown",
      "source": [
        "# _ __ __ _ _  _ __ _ __ _ _ __ _ __ _ __ _ _ _ _ __ __ _ _ _ _ __ _ _\n"
      ],
      "metadata": {
        "id": "PSD1X5sNfKTt"
      }
    }
  ]
}